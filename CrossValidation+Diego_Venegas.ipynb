{
 "cells": [
  {
   "cell_type": "markdown",
   "id": "e6948a07-24da-4cfb-bcd8-6cae3740cc4e",
   "metadata": {},
   "source": [
    "## Desafio Coder - Data Storytelling\n",
    "#### Alumno: Diego Venegas Gonzalez"
   ]
  },
  {
   "cell_type": "code",
   "execution_count": 1,
   "id": "8de1443b-596d-4c45-af19-c2e6bae7342d",
   "metadata": {},
   "outputs": [],
   "source": [
    "import warnings\n",
    "warnings.filterwarnings('always')\n",
    "warnings.filterwarnings('ignore')\n",
    "\n",
    "import numpy as np\n",
    "import pandas as pd\n",
    "import matplotlib.pyplot as plt\n",
    "import seaborn as sns"
   ]
  },
  {
   "cell_type": "markdown",
   "id": "4d4b5fd0-e950-4b4d-afd2-3f3dfe7cf54d",
   "metadata": {
    "tags": []
   },
   "source": [
    "## Dataset - Riesgo de incumplimiento de pagos\n",
    "Este conjunto de datos contiene información sobre pagos predeterminados, factores demográficos, datos crediticios, historial de pagos y estados de cuenta de clientes de tarjetas de crédito en Taiwán desde abril de 2005 hasta septiembre de 2005. El objetivo principal es estimar la probabilidad de incumplimiento de pago de los clientes."
   ]
  },
  {
   "cell_type": "markdown",
   "id": "2bdb677b-9e12-43be-b320-985798b03bf6",
   "metadata": {},
   "source": [
    "#### Descripción de las variables:\n",
    "- ID: ID de cada cliente\n",
    "- LIMIT_BAL: monto del crédito otorgado en dólares NT (incluye crédito individual y familiar/suplementario)\n",
    "- SEX: Género (1=masculino, 2=femenino)\n",
    "- EDUCATION: (1=graduado, 2=universidad, 3=bachillerato, 4=otros, 5=desconocido, 6=desconocido)\n",
    "- MARRIAGE: Estado civil (1=casado, 2=soltero, 3=otros)\n",
    "- AGE: Edad en años\n",
    "- PAY_1: estado de pago en septiembre de 2005 (-1=pago debido, 1=retraso en el pago de un mes, 2=retraso en el pago de dos meses, ...8=retraso en el pago de ocho meses, 9=retraso en el pago de nueve meses o más)\n",
    "- PAY_2: Estado de pago en agosto de 2005 (escala igual a la anterior)\n",
    "- PAY_3: Estado de pago en julio de 2005 (escala igual a la anterior)\n",
    "- PAY_4: Estado de pago en junio de 2005 (escala igual a la anterior)\n",
    "- PAY_5: Estado de pago en mayo de 2005 (escala igual a la anterior)\n",
    "- PAY_6: Estado de pago en abril de 2005 (escala igual a la anterior)\n",
    "- BILL_AMT1: Importe del estado de cuenta en septiembre de 2005 (dólar NT)\n",
    "- BILL_AMT2: Importe del estado de cuenta en agosto de 2005 (dólar NT)\n",
    "- BILL_AMT3: Importe del estado de cuenta en julio de 2005 (dólar NT)\n",
    "- BILL_AMT4: Importe del estado de cuenta en junio de 2005 (dólar NT)\n",
    "- BILL_AMT5: Importe del estado de cuenta en mayo de 2005 (dólar NT)\n",
    "- BILL_AMT6: Importe del estado de cuenta en abril de 2005 (dólar NT)\n",
    "- PAY_AMT1: Importe del pago anterior en septiembre de 2005 (dólar NT)\n",
    "- PAY_AMT2: Importe del pago anterior en agosto de 2005 (dólar NT)\n",
    "- PAY_AMT3: Importe del pago anterior en julio de 2005 (dólar NT)\n",
    "- PAY_AMT4: Importe del pago anterior en junio de 2005 (dólar NT)\n",
    "- PAY_AMT5: Importe del pago anterior en mayo de 2005 (dólar NT)\n",
    "- PAY_AMT6: Importe del pago anterior en abril de 2005 (dólar NT)\n",
    "- DEFAULT: Pago predeterminado (1=sí, 0=no)"
   ]
  },
  {
   "cell_type": "markdown",
   "id": "4abfbc89-898b-4a1a-bf39-07b9b351d348",
   "metadata": {},
   "source": [
    "### Contexto Comercial"
   ]
  },
  {
   "cell_type": "markdown",
   "id": "2d86cf88-16dc-4ed3-b1b8-a18ed745c0a4",
   "metadata": {},
   "source": [
    "Uno de los principales ingresos de los bancos son los préstamos a los clientes. La ganancia de los bancos radica en los intereses que le cobran por el préstamo, el cual varía para cada cliente y está sujeto a diferentes factores. Uno de los factores más importantes es el riesgo, y este se calcula por las distintas variables que tiene el cliente, como por ejemplo su edad, sus ingresos mensuales, su historial crediticio, etc. Sin embargo, existen algunos clientes a los cuales les prestan dinero y luego terminan incumpliendo los pagos, lo cual termina perjudicando a los bancos. Esta práctica se ha vuelto algo frecuente en algunas personas, ya que saben que no hay cárcel por incumplimiento de pagos. Por lo tanto, el objetivo de este proyecto es poder identificar a los clientes que van a incumplir los pagos para así minimizar las pérdidas del banco y la utilidad sea mayor."
   ]
  },
  {
   "cell_type": "markdown",
   "id": "301638a5-29f2-408c-a6cd-2e5b6acbb0c3",
   "metadata": {},
   "source": [
    "#### Objetivo Principal:\n",
    "- Identificar a los clientes de un banco que tengan alto riesgo de incumplimiento de pago utilizando técnicas de data science y modelos de machine learning "
   ]
  },
  {
   "cell_type": "markdown",
   "id": "57c05ab7-d865-423f-9257-701c7d042f3b",
   "metadata": {},
   "source": [
    "#### Objetivos Secundarios:\n",
    "- Identificar los factores más influyentes en el riesgo de incumplimiento de pago\n",
    "- Desarrollar un sistema automatizado para calificar el riesgo de impago de los clientes.\n",
    "- Evaluar la precisión y eficacia del modelo\n",
    "- Implementar soluciones para reducir el riesgo de impago\n",
    "- Mejorar la toma de decisiones de la empresa en cuanto a la asignación de crédito a los clientes"
   ]
  },
  {
   "cell_type": "markdown",
   "id": "fe72fddf-b322-40ec-ad3d-09e02b8ca5da",
   "metadata": {},
   "source": [
    "#### Motivación y Audiencia:\n",
    "El público al cual va dirigido este proyecto es el siguiente: los directores, los gerentes del banco, las principales jefaturas, los empleados de la unidad de crédito y el equipo de data science.\n",
    "\n",
    "Lo que se espera tras la ejecución de este proyecto es:\n",
    "- Tener una mejor comprensión de los factores que contribuyen al riesgo de impago, lo que permitirá a la empresa tomar medidas más informadas para prevenirlo.\n",
    "- Un sistema automatizado de calificación de riesgo que mejore la eficiencia y la precisión en comparación de los métodos tradicionales\n",
    "- Una reducción en el número de impagos y una mejora en la tasa de recuperación de deudas\n",
    "- Una mejora en la toma de decisiones en cuanto a la asignación de crédito a los clientes, lo que aumentará la seguridad y la rentabilidad de la empresa\n",
    "- Una ventaja competitiva al ser capaces de ofrecer una mejor evaluación de riesgo a los clientes y potenciales clientes, lo que aumentará la satisfacción y lealtad de los clientes."
   ]
  },
  {
   "cell_type": "code",
   "execution_count": 2,
   "id": "2c3c2b05-6a83-4299-a0d5-837a79dd689d",
   "metadata": {},
   "outputs": [],
   "source": [
    "df = pd.read_csv(\"datacredit.csv\") "
   ]
  },
  {
   "cell_type": "code",
   "execution_count": 3,
   "id": "c05821dc-02b9-4550-aa60-3b08d7abb72f",
   "metadata": {},
   "outputs": [
    {
     "data": {
      "text/plain": [
       "(30000, 25)"
      ]
     },
     "execution_count": 3,
     "metadata": {},
     "output_type": "execute_result"
    }
   ],
   "source": [
    "df.shape"
   ]
  },
  {
   "cell_type": "code",
   "execution_count": 4,
   "id": "9980a963-7522-4026-96d2-2eda28aec12a",
   "metadata": {},
   "outputs": [
    {
     "data": {
      "text/html": [
       "<div>\n",
       "<style scoped>\n",
       "    .dataframe tbody tr th:only-of-type {\n",
       "        vertical-align: middle;\n",
       "    }\n",
       "\n",
       "    .dataframe tbody tr th {\n",
       "        vertical-align: top;\n",
       "    }\n",
       "\n",
       "    .dataframe thead th {\n",
       "        text-align: right;\n",
       "    }\n",
       "</style>\n",
       "<table border=\"1\" class=\"dataframe\">\n",
       "  <thead>\n",
       "    <tr style=\"text-align: right;\">\n",
       "      <th></th>\n",
       "      <th>ID</th>\n",
       "      <th>LIMIT_BAL</th>\n",
       "      <th>SEX</th>\n",
       "      <th>EDUCATION</th>\n",
       "      <th>MARRIAGE</th>\n",
       "      <th>AGE</th>\n",
       "      <th>PAY_1</th>\n",
       "      <th>PAY_2</th>\n",
       "      <th>PAY_3</th>\n",
       "      <th>PAY_4</th>\n",
       "      <th>...</th>\n",
       "      <th>BILL_AMT4</th>\n",
       "      <th>BILL_AMT5</th>\n",
       "      <th>BILL_AMT6</th>\n",
       "      <th>PAY_AMT1</th>\n",
       "      <th>PAY_AMT2</th>\n",
       "      <th>PAY_AMT3</th>\n",
       "      <th>PAY_AMT4</th>\n",
       "      <th>PAY_AMT5</th>\n",
       "      <th>PAY_AMT6</th>\n",
       "      <th>DEFAULT</th>\n",
       "    </tr>\n",
       "  </thead>\n",
       "  <tbody>\n",
       "    <tr>\n",
       "      <th>0</th>\n",
       "      <td>1</td>\n",
       "      <td>20000</td>\n",
       "      <td>2</td>\n",
       "      <td>2</td>\n",
       "      <td>1</td>\n",
       "      <td>24</td>\n",
       "      <td>2</td>\n",
       "      <td>2</td>\n",
       "      <td>-1</td>\n",
       "      <td>-1</td>\n",
       "      <td>...</td>\n",
       "      <td>0</td>\n",
       "      <td>0</td>\n",
       "      <td>0</td>\n",
       "      <td>0</td>\n",
       "      <td>689</td>\n",
       "      <td>0</td>\n",
       "      <td>0</td>\n",
       "      <td>0</td>\n",
       "      <td>0</td>\n",
       "      <td>1</td>\n",
       "    </tr>\n",
       "    <tr>\n",
       "      <th>1</th>\n",
       "      <td>2</td>\n",
       "      <td>120000</td>\n",
       "      <td>2</td>\n",
       "      <td>2</td>\n",
       "      <td>2</td>\n",
       "      <td>26</td>\n",
       "      <td>-1</td>\n",
       "      <td>2</td>\n",
       "      <td>0</td>\n",
       "      <td>0</td>\n",
       "      <td>...</td>\n",
       "      <td>3272</td>\n",
       "      <td>3455</td>\n",
       "      <td>3261</td>\n",
       "      <td>0</td>\n",
       "      <td>1000</td>\n",
       "      <td>1000</td>\n",
       "      <td>1000</td>\n",
       "      <td>0</td>\n",
       "      <td>2000</td>\n",
       "      <td>1</td>\n",
       "    </tr>\n",
       "    <tr>\n",
       "      <th>2</th>\n",
       "      <td>3</td>\n",
       "      <td>90000</td>\n",
       "      <td>2</td>\n",
       "      <td>2</td>\n",
       "      <td>2</td>\n",
       "      <td>34</td>\n",
       "      <td>0</td>\n",
       "      <td>0</td>\n",
       "      <td>0</td>\n",
       "      <td>0</td>\n",
       "      <td>...</td>\n",
       "      <td>14331</td>\n",
       "      <td>14948</td>\n",
       "      <td>15549</td>\n",
       "      <td>1518</td>\n",
       "      <td>1500</td>\n",
       "      <td>1000</td>\n",
       "      <td>1000</td>\n",
       "      <td>1000</td>\n",
       "      <td>5000</td>\n",
       "      <td>0</td>\n",
       "    </tr>\n",
       "    <tr>\n",
       "      <th>3</th>\n",
       "      <td>4</td>\n",
       "      <td>50000</td>\n",
       "      <td>2</td>\n",
       "      <td>2</td>\n",
       "      <td>1</td>\n",
       "      <td>37</td>\n",
       "      <td>0</td>\n",
       "      <td>0</td>\n",
       "      <td>0</td>\n",
       "      <td>0</td>\n",
       "      <td>...</td>\n",
       "      <td>28314</td>\n",
       "      <td>28959</td>\n",
       "      <td>29547</td>\n",
       "      <td>2000</td>\n",
       "      <td>2019</td>\n",
       "      <td>1200</td>\n",
       "      <td>1100</td>\n",
       "      <td>1069</td>\n",
       "      <td>1000</td>\n",
       "      <td>0</td>\n",
       "    </tr>\n",
       "    <tr>\n",
       "      <th>4</th>\n",
       "      <td>5</td>\n",
       "      <td>50000</td>\n",
       "      <td>1</td>\n",
       "      <td>2</td>\n",
       "      <td>1</td>\n",
       "      <td>57</td>\n",
       "      <td>-1</td>\n",
       "      <td>0</td>\n",
       "      <td>-1</td>\n",
       "      <td>0</td>\n",
       "      <td>...</td>\n",
       "      <td>20940</td>\n",
       "      <td>19146</td>\n",
       "      <td>19131</td>\n",
       "      <td>2000</td>\n",
       "      <td>36681</td>\n",
       "      <td>10000</td>\n",
       "      <td>9000</td>\n",
       "      <td>689</td>\n",
       "      <td>679</td>\n",
       "      <td>0</td>\n",
       "    </tr>\n",
       "  </tbody>\n",
       "</table>\n",
       "<p>5 rows × 25 columns</p>\n",
       "</div>"
      ],
      "text/plain": [
       "   ID  LIMIT_BAL  SEX  EDUCATION  MARRIAGE  AGE  PAY_1  PAY_2  PAY_3  PAY_4  \\\n",
       "0   1      20000    2          2         1   24      2      2     -1     -1   \n",
       "1   2     120000    2          2         2   26     -1      2      0      0   \n",
       "2   3      90000    2          2         2   34      0      0      0      0   \n",
       "3   4      50000    2          2         1   37      0      0      0      0   \n",
       "4   5      50000    1          2         1   57     -1      0     -1      0   \n",
       "\n",
       "   ...  BILL_AMT4  BILL_AMT5  BILL_AMT6  PAY_AMT1  PAY_AMT2  PAY_AMT3  \\\n",
       "0  ...          0          0          0         0       689         0   \n",
       "1  ...       3272       3455       3261         0      1000      1000   \n",
       "2  ...      14331      14948      15549      1518      1500      1000   \n",
       "3  ...      28314      28959      29547      2000      2019      1200   \n",
       "4  ...      20940      19146      19131      2000     36681     10000   \n",
       "\n",
       "   PAY_AMT4  PAY_AMT5  PAY_AMT6  DEFAULT  \n",
       "0         0         0         0        1  \n",
       "1      1000         0      2000        1  \n",
       "2      1000      1000      5000        0  \n",
       "3      1100      1069      1000        0  \n",
       "4      9000       689       679        0  \n",
       "\n",
       "[5 rows x 25 columns]"
      ]
     },
     "execution_count": 4,
     "metadata": {},
     "output_type": "execute_result"
    }
   ],
   "source": [
    "df.head()"
   ]
  },
  {
   "cell_type": "code",
   "execution_count": 5,
   "id": "42d3f1c1-4c00-43e9-a148-ac094decb6ae",
   "metadata": {},
   "outputs": [],
   "source": [
    "df.drop(['ID'],axis=1,inplace=True)"
   ]
  },
  {
   "cell_type": "code",
   "execution_count": 6,
   "id": "b68bc1ea-463e-4b17-a05b-592845a723ac",
   "metadata": {},
   "outputs": [
    {
     "name": "stdout",
     "output_type": "stream",
     "text": [
      "<class 'pandas.core.frame.DataFrame'>\n",
      "RangeIndex: 30000 entries, 0 to 29999\n",
      "Data columns (total 24 columns):\n",
      " #   Column     Non-Null Count  Dtype\n",
      "---  ------     --------------  -----\n",
      " 0   LIMIT_BAL  30000 non-null  int64\n",
      " 1   SEX        30000 non-null  int64\n",
      " 2   EDUCATION  30000 non-null  int64\n",
      " 3   MARRIAGE   30000 non-null  int64\n",
      " 4   AGE        30000 non-null  int64\n",
      " 5   PAY_1      30000 non-null  int64\n",
      " 6   PAY_2      30000 non-null  int64\n",
      " 7   PAY_3      30000 non-null  int64\n",
      " 8   PAY_4      30000 non-null  int64\n",
      " 9   PAY_5      30000 non-null  int64\n",
      " 10  PAY_6      30000 non-null  int64\n",
      " 11  BILL_AMT1  30000 non-null  int64\n",
      " 12  BILL_AMT2  30000 non-null  int64\n",
      " 13  BILL_AMT3  30000 non-null  int64\n",
      " 14  BILL_AMT4  30000 non-null  int64\n",
      " 15  BILL_AMT5  30000 non-null  int64\n",
      " 16  BILL_AMT6  30000 non-null  int64\n",
      " 17  PAY_AMT1   30000 non-null  int64\n",
      " 18  PAY_AMT2   30000 non-null  int64\n",
      " 19  PAY_AMT3   30000 non-null  int64\n",
      " 20  PAY_AMT4   30000 non-null  int64\n",
      " 21  PAY_AMT5   30000 non-null  int64\n",
      " 22  PAY_AMT6   30000 non-null  int64\n",
      " 23  DEFAULT    30000 non-null  int64\n",
      "dtypes: int64(24)\n",
      "memory usage: 5.5 MB\n"
     ]
    }
   ],
   "source": [
    "df.info()"
   ]
  },
  {
   "cell_type": "code",
   "execution_count": 7,
   "id": "44279c6b-8cbd-4631-aef0-22c4d0c640eb",
   "metadata": {},
   "outputs": [
    {
     "data": {
      "text/html": [
       "<div>\n",
       "<style scoped>\n",
       "    .dataframe tbody tr th:only-of-type {\n",
       "        vertical-align: middle;\n",
       "    }\n",
       "\n",
       "    .dataframe tbody tr th {\n",
       "        vertical-align: top;\n",
       "    }\n",
       "\n",
       "    .dataframe thead th {\n",
       "        text-align: right;\n",
       "    }\n",
       "</style>\n",
       "<table border=\"1\" class=\"dataframe\">\n",
       "  <thead>\n",
       "    <tr style=\"text-align: right;\">\n",
       "      <th></th>\n",
       "      <th>LIMIT_BAL</th>\n",
       "      <th>SEX</th>\n",
       "      <th>EDUCATION</th>\n",
       "      <th>MARRIAGE</th>\n",
       "      <th>AGE</th>\n",
       "      <th>PAY_1</th>\n",
       "      <th>PAY_2</th>\n",
       "      <th>PAY_3</th>\n",
       "      <th>PAY_4</th>\n",
       "      <th>PAY_5</th>\n",
       "      <th>...</th>\n",
       "      <th>BILL_AMT4</th>\n",
       "      <th>BILL_AMT5</th>\n",
       "      <th>BILL_AMT6</th>\n",
       "      <th>PAY_AMT1</th>\n",
       "      <th>PAY_AMT2</th>\n",
       "      <th>PAY_AMT3</th>\n",
       "      <th>PAY_AMT4</th>\n",
       "      <th>PAY_AMT5</th>\n",
       "      <th>PAY_AMT6</th>\n",
       "      <th>DEFAULT</th>\n",
       "    </tr>\n",
       "  </thead>\n",
       "  <tbody>\n",
       "    <tr>\n",
       "      <th>count</th>\n",
       "      <td>30000.000000</td>\n",
       "      <td>30000.000000</td>\n",
       "      <td>30000.000000</td>\n",
       "      <td>30000.000000</td>\n",
       "      <td>30000.000000</td>\n",
       "      <td>30000.000000</td>\n",
       "      <td>30000.000000</td>\n",
       "      <td>30000.000000</td>\n",
       "      <td>30000.000000</td>\n",
       "      <td>30000.000000</td>\n",
       "      <td>...</td>\n",
       "      <td>30000.000000</td>\n",
       "      <td>30000.000000</td>\n",
       "      <td>30000.000000</td>\n",
       "      <td>30000.000000</td>\n",
       "      <td>3.000000e+04</td>\n",
       "      <td>30000.00000</td>\n",
       "      <td>30000.000000</td>\n",
       "      <td>30000.000000</td>\n",
       "      <td>30000.000000</td>\n",
       "      <td>30000.000000</td>\n",
       "    </tr>\n",
       "    <tr>\n",
       "      <th>mean</th>\n",
       "      <td>167484.322667</td>\n",
       "      <td>1.603733</td>\n",
       "      <td>1.853133</td>\n",
       "      <td>1.551867</td>\n",
       "      <td>35.485500</td>\n",
       "      <td>-0.016700</td>\n",
       "      <td>-0.133767</td>\n",
       "      <td>-0.166200</td>\n",
       "      <td>-0.220667</td>\n",
       "      <td>-0.266200</td>\n",
       "      <td>...</td>\n",
       "      <td>43262.948967</td>\n",
       "      <td>40311.400967</td>\n",
       "      <td>38871.760400</td>\n",
       "      <td>5663.580500</td>\n",
       "      <td>5.921163e+03</td>\n",
       "      <td>5225.68150</td>\n",
       "      <td>4826.076867</td>\n",
       "      <td>4799.387633</td>\n",
       "      <td>5215.502567</td>\n",
       "      <td>0.221200</td>\n",
       "    </tr>\n",
       "    <tr>\n",
       "      <th>std</th>\n",
       "      <td>129747.661567</td>\n",
       "      <td>0.489129</td>\n",
       "      <td>0.790349</td>\n",
       "      <td>0.521970</td>\n",
       "      <td>9.217904</td>\n",
       "      <td>1.123802</td>\n",
       "      <td>1.197186</td>\n",
       "      <td>1.196868</td>\n",
       "      <td>1.169139</td>\n",
       "      <td>1.133187</td>\n",
       "      <td>...</td>\n",
       "      <td>64332.856134</td>\n",
       "      <td>60797.155770</td>\n",
       "      <td>59554.107537</td>\n",
       "      <td>16563.280354</td>\n",
       "      <td>2.304087e+04</td>\n",
       "      <td>17606.96147</td>\n",
       "      <td>15666.159744</td>\n",
       "      <td>15278.305679</td>\n",
       "      <td>17777.465775</td>\n",
       "      <td>0.415062</td>\n",
       "    </tr>\n",
       "    <tr>\n",
       "      <th>min</th>\n",
       "      <td>10000.000000</td>\n",
       "      <td>1.000000</td>\n",
       "      <td>0.000000</td>\n",
       "      <td>0.000000</td>\n",
       "      <td>21.000000</td>\n",
       "      <td>-2.000000</td>\n",
       "      <td>-2.000000</td>\n",
       "      <td>-2.000000</td>\n",
       "      <td>-2.000000</td>\n",
       "      <td>-2.000000</td>\n",
       "      <td>...</td>\n",
       "      <td>-170000.000000</td>\n",
       "      <td>-81334.000000</td>\n",
       "      <td>-339603.000000</td>\n",
       "      <td>0.000000</td>\n",
       "      <td>0.000000e+00</td>\n",
       "      <td>0.00000</td>\n",
       "      <td>0.000000</td>\n",
       "      <td>0.000000</td>\n",
       "      <td>0.000000</td>\n",
       "      <td>0.000000</td>\n",
       "    </tr>\n",
       "    <tr>\n",
       "      <th>25%</th>\n",
       "      <td>50000.000000</td>\n",
       "      <td>1.000000</td>\n",
       "      <td>1.000000</td>\n",
       "      <td>1.000000</td>\n",
       "      <td>28.000000</td>\n",
       "      <td>-1.000000</td>\n",
       "      <td>-1.000000</td>\n",
       "      <td>-1.000000</td>\n",
       "      <td>-1.000000</td>\n",
       "      <td>-1.000000</td>\n",
       "      <td>...</td>\n",
       "      <td>2326.750000</td>\n",
       "      <td>1763.000000</td>\n",
       "      <td>1256.000000</td>\n",
       "      <td>1000.000000</td>\n",
       "      <td>8.330000e+02</td>\n",
       "      <td>390.00000</td>\n",
       "      <td>296.000000</td>\n",
       "      <td>252.500000</td>\n",
       "      <td>117.750000</td>\n",
       "      <td>0.000000</td>\n",
       "    </tr>\n",
       "    <tr>\n",
       "      <th>50%</th>\n",
       "      <td>140000.000000</td>\n",
       "      <td>2.000000</td>\n",
       "      <td>2.000000</td>\n",
       "      <td>2.000000</td>\n",
       "      <td>34.000000</td>\n",
       "      <td>0.000000</td>\n",
       "      <td>0.000000</td>\n",
       "      <td>0.000000</td>\n",
       "      <td>0.000000</td>\n",
       "      <td>0.000000</td>\n",
       "      <td>...</td>\n",
       "      <td>19052.000000</td>\n",
       "      <td>18104.500000</td>\n",
       "      <td>17071.000000</td>\n",
       "      <td>2100.000000</td>\n",
       "      <td>2.009000e+03</td>\n",
       "      <td>1800.00000</td>\n",
       "      <td>1500.000000</td>\n",
       "      <td>1500.000000</td>\n",
       "      <td>1500.000000</td>\n",
       "      <td>0.000000</td>\n",
       "    </tr>\n",
       "    <tr>\n",
       "      <th>75%</th>\n",
       "      <td>240000.000000</td>\n",
       "      <td>2.000000</td>\n",
       "      <td>2.000000</td>\n",
       "      <td>2.000000</td>\n",
       "      <td>41.000000</td>\n",
       "      <td>0.000000</td>\n",
       "      <td>0.000000</td>\n",
       "      <td>0.000000</td>\n",
       "      <td>0.000000</td>\n",
       "      <td>0.000000</td>\n",
       "      <td>...</td>\n",
       "      <td>54506.000000</td>\n",
       "      <td>50190.500000</td>\n",
       "      <td>49198.250000</td>\n",
       "      <td>5006.000000</td>\n",
       "      <td>5.000000e+03</td>\n",
       "      <td>4505.00000</td>\n",
       "      <td>4013.250000</td>\n",
       "      <td>4031.500000</td>\n",
       "      <td>4000.000000</td>\n",
       "      <td>0.000000</td>\n",
       "    </tr>\n",
       "    <tr>\n",
       "      <th>max</th>\n",
       "      <td>1000000.000000</td>\n",
       "      <td>2.000000</td>\n",
       "      <td>6.000000</td>\n",
       "      <td>3.000000</td>\n",
       "      <td>79.000000</td>\n",
       "      <td>8.000000</td>\n",
       "      <td>8.000000</td>\n",
       "      <td>8.000000</td>\n",
       "      <td>8.000000</td>\n",
       "      <td>8.000000</td>\n",
       "      <td>...</td>\n",
       "      <td>891586.000000</td>\n",
       "      <td>927171.000000</td>\n",
       "      <td>961664.000000</td>\n",
       "      <td>873552.000000</td>\n",
       "      <td>1.684259e+06</td>\n",
       "      <td>896040.00000</td>\n",
       "      <td>621000.000000</td>\n",
       "      <td>426529.000000</td>\n",
       "      <td>528666.000000</td>\n",
       "      <td>1.000000</td>\n",
       "    </tr>\n",
       "  </tbody>\n",
       "</table>\n",
       "<p>8 rows × 24 columns</p>\n",
       "</div>"
      ],
      "text/plain": [
       "            LIMIT_BAL           SEX     EDUCATION      MARRIAGE           AGE  \\\n",
       "count    30000.000000  30000.000000  30000.000000  30000.000000  30000.000000   \n",
       "mean    167484.322667      1.603733      1.853133      1.551867     35.485500   \n",
       "std     129747.661567      0.489129      0.790349      0.521970      9.217904   \n",
       "min      10000.000000      1.000000      0.000000      0.000000     21.000000   \n",
       "25%      50000.000000      1.000000      1.000000      1.000000     28.000000   \n",
       "50%     140000.000000      2.000000      2.000000      2.000000     34.000000   \n",
       "75%     240000.000000      2.000000      2.000000      2.000000     41.000000   \n",
       "max    1000000.000000      2.000000      6.000000      3.000000     79.000000   \n",
       "\n",
       "              PAY_1         PAY_2         PAY_3         PAY_4         PAY_5  \\\n",
       "count  30000.000000  30000.000000  30000.000000  30000.000000  30000.000000   \n",
       "mean      -0.016700     -0.133767     -0.166200     -0.220667     -0.266200   \n",
       "std        1.123802      1.197186      1.196868      1.169139      1.133187   \n",
       "min       -2.000000     -2.000000     -2.000000     -2.000000     -2.000000   \n",
       "25%       -1.000000     -1.000000     -1.000000     -1.000000     -1.000000   \n",
       "50%        0.000000      0.000000      0.000000      0.000000      0.000000   \n",
       "75%        0.000000      0.000000      0.000000      0.000000      0.000000   \n",
       "max        8.000000      8.000000      8.000000      8.000000      8.000000   \n",
       "\n",
       "       ...      BILL_AMT4      BILL_AMT5      BILL_AMT6       PAY_AMT1  \\\n",
       "count  ...   30000.000000   30000.000000   30000.000000   30000.000000   \n",
       "mean   ...   43262.948967   40311.400967   38871.760400    5663.580500   \n",
       "std    ...   64332.856134   60797.155770   59554.107537   16563.280354   \n",
       "min    ... -170000.000000  -81334.000000 -339603.000000       0.000000   \n",
       "25%    ...    2326.750000    1763.000000    1256.000000    1000.000000   \n",
       "50%    ...   19052.000000   18104.500000   17071.000000    2100.000000   \n",
       "75%    ...   54506.000000   50190.500000   49198.250000    5006.000000   \n",
       "max    ...  891586.000000  927171.000000  961664.000000  873552.000000   \n",
       "\n",
       "           PAY_AMT2      PAY_AMT3       PAY_AMT4       PAY_AMT5  \\\n",
       "count  3.000000e+04   30000.00000   30000.000000   30000.000000   \n",
       "mean   5.921163e+03    5225.68150    4826.076867    4799.387633   \n",
       "std    2.304087e+04   17606.96147   15666.159744   15278.305679   \n",
       "min    0.000000e+00       0.00000       0.000000       0.000000   \n",
       "25%    8.330000e+02     390.00000     296.000000     252.500000   \n",
       "50%    2.009000e+03    1800.00000    1500.000000    1500.000000   \n",
       "75%    5.000000e+03    4505.00000    4013.250000    4031.500000   \n",
       "max    1.684259e+06  896040.00000  621000.000000  426529.000000   \n",
       "\n",
       "            PAY_AMT6       DEFAULT  \n",
       "count   30000.000000  30000.000000  \n",
       "mean     5215.502567      0.221200  \n",
       "std     17777.465775      0.415062  \n",
       "min         0.000000      0.000000  \n",
       "25%       117.750000      0.000000  \n",
       "50%      1500.000000      0.000000  \n",
       "75%      4000.000000      0.000000  \n",
       "max    528666.000000      1.000000  \n",
       "\n",
       "[8 rows x 24 columns]"
      ]
     },
     "execution_count": 7,
     "metadata": {},
     "output_type": "execute_result"
    }
   ],
   "source": [
    "df.describe()"
   ]
  },
  {
   "cell_type": "markdown",
   "id": "bbea4c13-261b-41d8-b76c-7c2e6eed4b00",
   "metadata": {
    "id": "z-xwHgOuS5M8"
   },
   "source": [
    "## Análisis Exploratorio de Datos (EDA)"
   ]
  },
  {
   "cell_type": "code",
   "execution_count": 8,
   "id": "f8c183d9-0891-4bf4-ac2a-ef71913ae8f3",
   "metadata": {
    "id": "ft_rOdkxS5NO"
   },
   "outputs": [
    {
     "data": {
      "text/plain": [
       "LIMIT_BAL    0\n",
       "SEX          0\n",
       "EDUCATION    0\n",
       "MARRIAGE     0\n",
       "AGE          0\n",
       "PAY_1        0\n",
       "PAY_2        0\n",
       "PAY_3        0\n",
       "PAY_4        0\n",
       "PAY_5        0\n",
       "PAY_6        0\n",
       "BILL_AMT1    0\n",
       "BILL_AMT2    0\n",
       "BILL_AMT3    0\n",
       "BILL_AMT4    0\n",
       "BILL_AMT5    0\n",
       "BILL_AMT6    0\n",
       "PAY_AMT1     0\n",
       "PAY_AMT2     0\n",
       "PAY_AMT3     0\n",
       "PAY_AMT4     0\n",
       "PAY_AMT5     0\n",
       "PAY_AMT6     0\n",
       "DEFAULT      0\n",
       "dtype: int64"
      ]
     },
     "execution_count": 8,
     "metadata": {},
     "output_type": "execute_result"
    }
   ],
   "source": [
    "# Revisamos los valores nulos o missings!\n",
    "df.isnull().sum()"
   ]
  },
  {
   "cell_type": "markdown",
   "id": "b1877a03-cb44-475c-83eb-d53e0de719e7",
   "metadata": {
    "id": "QQ4an-XMc2yg"
   },
   "source": [
    "#### Análisis Univariado"
   ]
  },
  {
   "cell_type": "code",
   "execution_count": 9,
   "id": "ac9fc2fe-d94c-442e-8b47-3a3932ee87bf",
   "metadata": {},
   "outputs": [
    {
     "data": {
      "image/png": "[encoded data removed]",
      "text/plain": [
       "<Figure size 432x288 with 1 Axes>"
      ]
     },
     "metadata": {
      "needs_background": "light"
     },
     "output_type": "display_data"
    }
   ],
   "source": [
    "sns.countplot(data=df,x='DEFAULT')\n",
    "ax=sns.countplot(data=df,x='DEFAULT')"
   ]
  },
  {
   "cell_type": "code",
   "execution_count": 10,
   "id": "7fa59df9-5db0-40ff-af70-69c1271a3b35",
   "metadata": {
    "id": "XWCHbH4bQMSQ"
   },
   "outputs": [
    {
     "data": {
      "text/plain": [
       "0    0.7788\n",
       "1    0.2212\n",
       "Name: DEFAULT, dtype: float64"
      ]
     },
     "execution_count": 10,
     "metadata": {},
     "output_type": "execute_result"
    }
   ],
   "source": [
    "## Calculando la proporción del Target\n",
    "df.DEFAULT.value_counts(normalize=True)"
   ]
  },
  {
   "cell_type": "code",
   "execution_count": 11,
   "id": "f041daa4-9041-45ac-904f-47d56a7af1ca",
   "metadata": {
    "id": "d3suGh0zQMSQ"
   },
   "outputs": [
    {
     "data": {
      "image/png": "[encoded data removed]",
      "text/plain": [
       "<Figure size 432x288 with 1 Axes>"
      ]
     },
     "metadata": {
      "needs_background": "light"
     },
     "output_type": "display_data"
    }
   ],
   "source": [
    "sns.countplot(data=df,x='SEX')\n",
    "ax=sns.countplot(data=df,x='SEX')"
   ]
  },
  {
   "cell_type": "code",
   "execution_count": 12,
   "id": "e254c81b-b59a-4174-9092-9eb6c8e82756",
   "metadata": {
    "id": "HiFYQQ7VQMSQ"
   },
   "outputs": [
    {
     "data": {
      "text/html": [
       "<div>\n",
       "<style scoped>\n",
       "    .dataframe tbody tr th:only-of-type {\n",
       "        vertical-align: middle;\n",
       "    }\n",
       "\n",
       "    .dataframe tbody tr th {\n",
       "        vertical-align: top;\n",
       "    }\n",
       "\n",
       "    .dataframe thead th {\n",
       "        text-align: right;\n",
       "    }\n",
       "</style>\n",
       "<table border=\"1\" class=\"dataframe\">\n",
       "  <thead>\n",
       "    <tr style=\"text-align: right;\">\n",
       "      <th>DEFAULT</th>\n",
       "      <th>0</th>\n",
       "      <th>1</th>\n",
       "    </tr>\n",
       "    <tr>\n",
       "      <th>SEX</th>\n",
       "      <th></th>\n",
       "      <th></th>\n",
       "    </tr>\n",
       "  </thead>\n",
       "  <tbody>\n",
       "    <tr>\n",
       "      <th>1</th>\n",
       "      <td>0.758328</td>\n",
       "      <td>0.241672</td>\n",
       "    </tr>\n",
       "    <tr>\n",
       "      <th>2</th>\n",
       "      <td>0.792237</td>\n",
       "      <td>0.207763</td>\n",
       "    </tr>\n",
       "  </tbody>\n",
       "</table>\n",
       "</div>"
      ],
      "text/plain": [
       "DEFAULT         0         1\n",
       "SEX                        \n",
       "1        0.758328  0.241672\n",
       "2        0.792237  0.207763"
      ]
     },
     "execution_count": 12,
     "metadata": {},
     "output_type": "execute_result"
    }
   ],
   "source": [
    "df.groupby('SEX').DEFAULT.value_counts(normalize=True).unstack(fill_value=0)"
   ]
  },
  {
   "cell_type": "code",
   "execution_count": 13,
   "id": "51769ff3-370e-474f-bbc9-bcd3a2011757",
   "metadata": {},
   "outputs": [
    {
     "data": {
      "image/png": "[encoded data removed]",
      "text/plain": [
       "<Figure size 432x288 with 1 Axes>"
      ]
     },
     "metadata": {
      "needs_background": "light"
     },
     "output_type": "display_data"
    },
    {
     "data": {
      "image/png": "[encoded data removed]",
      "text/plain": [
       "<Figure size 483.25x288 with 1 Axes>"
      ]
     },
     "metadata": {
      "needs_background": "light"
     },
     "output_type": "display_data"
    }
   ],
   "source": [
    "sns.countplot(x=\"SEX\", hue=\"DEFAULT\", data=df)\n",
    "ax = plt.gca()\n",
    "for p in ax.patches:\n",
    "    height = p.get_height()\n",
    "    ax.annotate(f\"{height:.0f}\", (p.get_x() + p.get_width() / 2, height),\n",
    "                ha='center', va='bottom', fontsize=12, color='black')\n",
    "    \n",
    "porcentaje_genero_pagado = df.groupby([\"SEX\", \"DEFAULT\"]).size().reset_index(name='total')\n",
    "porcentaje_genero_total = df.groupby([\"SEX\"]).size().reset_index(name='total')\n",
    "porcentaje_genero = porcentaje_genero_pagado.merge(porcentaje_genero_total, on=\"SEX\")\n",
    "porcentaje_genero[\"porcentaje\"] = porcentaje_genero[\"total_x\"] / porcentaje_genero[\"total_y\"] * 100\n",
    "\n",
    "g = sns.catplot(x=\"SEX\", y=\"porcentaje\", hue=\"DEFAULT\", data=porcentaje_genero, kind=\"bar\", height=4, aspect=1.5)\n",
    "\n",
    "for ax in g.axes.flat:\n",
    "    for p in ax.patches:\n",
    "        label = format(p.get_height(), '.2f')\n",
    "        ax.annotate(label, (p.get_x() + p.get_width() / 2, p.get_height()),\n",
    "                    ha='center', va='bottom', fontsize=12, color='black')\n",
    "\n",
    "plt.show()"
   ]
  },
  {
   "cell_type": "code",
   "execution_count": 14,
   "id": "c9913e48-a88a-4516-bdcc-9a19aa95685d",
   "metadata": {},
   "outputs": [
    {
     "data": {
      "image/png": "[encoded data removed]",
      "text/plain": [
       "<Figure size 432x288 with 1 Axes>"
      ]
     },
     "metadata": {
      "needs_background": "light"
     },
     "output_type": "display_data"
    }
   ],
   "source": [
    "ax = sns.countplot(x=\"EDUCATION\", hue=\"DEFAULT\", data=df)\n",
    "for p in ax.patches:\n",
    "    height = p.get_height()\n",
    "    width = p.get_width()\n",
    "    x, y = p.get_xy()\n",
    "    ax.annotate(f'{height}', (x + width / 2, y + height*1.02), ha='center')\n",
    "plt.show()"
   ]
  },
  {
   "cell_type": "code",
   "execution_count": 15,
   "id": "edb99e03-fe03-468c-a84b-1d4396c0dc79",
   "metadata": {
    "id": "_aQucUgoQMSR"
   },
   "outputs": [
    {
     "data": {
      "image/png": "[encoded data removed]",
      "text/plain": [
       "<Figure size 432x288 with 1 Axes>"
      ]
     },
     "metadata": {
      "needs_background": "light"
     },
     "output_type": "display_data"
    }
   ],
   "source": [
    "ax=sns.countplot(data=df,x='EDUCATION',hue=\"DEFAULT\")"
   ]
  },
  {
   "cell_type": "code",
   "execution_count": 16,
   "id": "0d0f9c36-c673-4bb2-9908-889bff563f3e",
   "metadata": {},
   "outputs": [
    {
     "data": {
      "text/plain": [
       "<AxesSubplot:xlabel='DEFAULT', ylabel='EDUCATION'>"
      ]
     },
     "execution_count": 16,
     "metadata": {},
     "output_type": "execute_result"
    },
    {
     "data": {
      "image/png": "[encoded data removed]",
      "text/plain": [
       "<Figure size 432x288 with 1 Axes>"
      ]
     },
     "metadata": {
      "needs_background": "light"
     },
     "output_type": "display_data"
    }
   ],
   "source": [
    "tabla_educacion = pd.crosstab(index=df[\"EDUCATION\"], columns=df[\"DEFAULT\"])\n",
    "tabla_porcentajes = tabla_educacion.apply(lambda r: r/r.sum()*100, axis=1)\n",
    "sns.heatmap(tabla_porcentajes, annot=True, cmap=\"YlGnBu\", fmt=\".1f\", cbar=False)"
   ]
  },
  {
   "cell_type": "code",
   "execution_count": 17,
   "id": "b6745747-e1c3-4095-b153-f1a3b88303f3",
   "metadata": {},
   "outputs": [
    {
     "data": {
      "image/png": "[encoded data removed]",
      "text/plain": [
       "<Figure size 432x288 with 1 Axes>"
      ]
     },
     "metadata": {
      "needs_background": "light"
     },
     "output_type": "display_data"
    }
   ],
   "source": [
    "sns.countplot(data=df,x='EDUCATION')\n",
    "ax=sns.countplot(data=df,x='EDUCATION')"
   ]
  },
  {
   "cell_type": "code",
   "execution_count": 18,
   "id": "77d356b9-1a26-476d-a1c2-a2783d5691ac",
   "metadata": {
    "id": "FmZgpeh0QMSR"
   },
   "outputs": [
    {
     "data": {
      "text/html": [
       "<div>\n",
       "<style scoped>\n",
       "    .dataframe tbody tr th:only-of-type {\n",
       "        vertical-align: middle;\n",
       "    }\n",
       "\n",
       "    .dataframe tbody tr th {\n",
       "        vertical-align: top;\n",
       "    }\n",
       "\n",
       "    .dataframe thead th {\n",
       "        text-align: right;\n",
       "    }\n",
       "</style>\n",
       "<table border=\"1\" class=\"dataframe\">\n",
       "  <thead>\n",
       "    <tr style=\"text-align: right;\">\n",
       "      <th>DEFAULT</th>\n",
       "      <th>0</th>\n",
       "      <th>1</th>\n",
       "    </tr>\n",
       "    <tr>\n",
       "      <th>EDUCATION</th>\n",
       "      <th></th>\n",
       "      <th></th>\n",
       "    </tr>\n",
       "  </thead>\n",
       "  <tbody>\n",
       "    <tr>\n",
       "      <th>0</th>\n",
       "      <td>1.000000</td>\n",
       "      <td>0.000000</td>\n",
       "    </tr>\n",
       "    <tr>\n",
       "      <th>1</th>\n",
       "      <td>0.807652</td>\n",
       "      <td>0.192348</td>\n",
       "    </tr>\n",
       "    <tr>\n",
       "      <th>2</th>\n",
       "      <td>0.762651</td>\n",
       "      <td>0.237349</td>\n",
       "    </tr>\n",
       "    <tr>\n",
       "      <th>3</th>\n",
       "      <td>0.748424</td>\n",
       "      <td>0.251576</td>\n",
       "    </tr>\n",
       "    <tr>\n",
       "      <th>4</th>\n",
       "      <td>0.943089</td>\n",
       "      <td>0.056911</td>\n",
       "    </tr>\n",
       "    <tr>\n",
       "      <th>5</th>\n",
       "      <td>0.935714</td>\n",
       "      <td>0.064286</td>\n",
       "    </tr>\n",
       "    <tr>\n",
       "      <th>6</th>\n",
       "      <td>0.843137</td>\n",
       "      <td>0.156863</td>\n",
       "    </tr>\n",
       "  </tbody>\n",
       "</table>\n",
       "</div>"
      ],
      "text/plain": [
       "DEFAULT           0         1\n",
       "EDUCATION                    \n",
       "0          1.000000  0.000000\n",
       "1          0.807652  0.192348\n",
       "2          0.762651  0.237349\n",
       "3          0.748424  0.251576\n",
       "4          0.943089  0.056911\n",
       "5          0.935714  0.064286\n",
       "6          0.843137  0.156863"
      ]
     },
     "execution_count": 18,
     "metadata": {},
     "output_type": "execute_result"
    }
   ],
   "source": [
    "df.groupby('EDUCATION').DEFAULT.value_counts(normalize=True).unstack(fill_value=0)"
   ]
  },
  {
   "cell_type": "code",
   "execution_count": 19,
   "id": "ba410adc-3c8c-41fa-8c9a-803108eeb7a0",
   "metadata": {
    "id": "IeKasgRPQMSR"
   },
   "outputs": [
    {
     "data": {
      "image/png": "[encoded data removed]",
      "text/plain": [
       "<Figure size 432x288 with 1 Axes>"
      ]
     },
     "metadata": {
      "needs_background": "light"
     },
     "output_type": "display_data"
    }
   ],
   "source": [
    "sns.countplot(data=df,x='MARRIAGE')\n",
    "ax=sns.countplot(data=df,x='MARRIAGE')"
   ]
  },
  {
   "cell_type": "code",
   "execution_count": 20,
   "id": "84083880-a955-4fff-bb97-9996bb228ff8",
   "metadata": {},
   "outputs": [
    {
     "data": {
      "text/plain": [
       "<AxesSubplot:xlabel='DEFAULT', ylabel='MARRIAGE'>"
      ]
     },
     "execution_count": 20,
     "metadata": {},
     "output_type": "execute_result"
    },
    {
     "data": {
      "image/png": "[encoded data removed]",
      "text/plain": [
       "<Figure size 432x288 with 1 Axes>"
      ]
     },
     "metadata": {
      "needs_background": "light"
     },
     "output_type": "display_data"
    }
   ],
   "source": [
    "tabla_marriage = pd.crosstab(index=df[\"MARRIAGE\"], columns=df[\"DEFAULT\"])\n",
    "tabla_porcent2 = tabla_marriage.apply(lambda r: r/r.sum()*100, axis=1)\n",
    "sns.heatmap(tabla_porcent2, annot=True, cmap=\"YlGnBu\", fmt=\".1f\", cbar=False)"
   ]
  },
  {
   "cell_type": "code",
   "execution_count": 21,
   "id": "5f75ebe3-4387-4229-86eb-0571075444c0",
   "metadata": {
    "id": "btQaSgCwQMSR"
   },
   "outputs": [
    {
     "data": {
      "text/html": [
       "<div>\n",
       "<style scoped>\n",
       "    .dataframe tbody tr th:only-of-type {\n",
       "        vertical-align: middle;\n",
       "    }\n",
       "\n",
       "    .dataframe tbody tr th {\n",
       "        vertical-align: top;\n",
       "    }\n",
       "\n",
       "    .dataframe thead th {\n",
       "        text-align: right;\n",
       "    }\n",
       "</style>\n",
       "<table border=\"1\" class=\"dataframe\">\n",
       "  <thead>\n",
       "    <tr style=\"text-align: right;\">\n",
       "      <th>DEFAULT</th>\n",
       "      <th>0</th>\n",
       "      <th>1</th>\n",
       "    </tr>\n",
       "    <tr>\n",
       "      <th>MARRIAGE</th>\n",
       "      <th></th>\n",
       "      <th></th>\n",
       "    </tr>\n",
       "  </thead>\n",
       "  <tbody>\n",
       "    <tr>\n",
       "      <th>0</th>\n",
       "      <td>0.907407</td>\n",
       "      <td>0.092593</td>\n",
       "    </tr>\n",
       "    <tr>\n",
       "      <th>1</th>\n",
       "      <td>0.765283</td>\n",
       "      <td>0.234717</td>\n",
       "    </tr>\n",
       "    <tr>\n",
       "      <th>2</th>\n",
       "      <td>0.790717</td>\n",
       "      <td>0.209283</td>\n",
       "    </tr>\n",
       "    <tr>\n",
       "      <th>3</th>\n",
       "      <td>0.739938</td>\n",
       "      <td>0.260062</td>\n",
       "    </tr>\n",
       "  </tbody>\n",
       "</table>\n",
       "</div>"
      ],
      "text/plain": [
       "DEFAULT          0         1\n",
       "MARRIAGE                    \n",
       "0         0.907407  0.092593\n",
       "1         0.765283  0.234717\n",
       "2         0.790717  0.209283\n",
       "3         0.739938  0.260062"
      ]
     },
     "execution_count": 21,
     "metadata": {},
     "output_type": "execute_result"
    }
   ],
   "source": [
    "df.groupby('MARRIAGE').DEFAULT.value_counts(normalize=True).unstack(fill_value=0)"
   ]
  },
  {
   "cell_type": "markdown",
   "id": "7a412749-2bda-4e1e-be06-48b545605ea5",
   "metadata": {},
   "source": [
    "##### Contar Valores Nulos"
   ]
  },
  {
   "cell_type": "code",
   "execution_count": 22,
   "id": "4786ece6-f0b4-45bb-a36d-f790da2f1e34",
   "metadata": {},
   "outputs": [],
   "source": [
    "# Función para calcular valores perdidos por columna\n",
    "def missing_values_table(df):\n",
    "        # Valores perdidos totales\n",
    "        mis_val = df.isnull().sum()\n",
    "        \n",
    "        # Porcentaje de valores faltantes\n",
    "        mis_val_percent = 100 * df.isnull().sum() / len(df)\n",
    "        \n",
    "        #Nombres de columna\n",
    "        #Columns = pd.Series(df_train.columns)\n",
    "        # Haz una tabla con los resultados.\n",
    "        mis_val_table = pd.concat([mis_val, mis_val_percent], axis=1,ignore_index= True)\n",
    "        \n",
    "        # Cambiar el nombre de las columnas\n",
    "        mis_val_table = mis_val_table.rename(\n",
    "        columns = {0 : 'Missing Values', 1 : '% of Total Values'})\n",
    "        \n",
    "        # Ordenar la tabla por porcentaje de faltante descendente\n",
    "        mis_val_table = mis_val_table[\n",
    "            mis_val_table.iloc[:,1] != 0].sort_values(\n",
    "        '% of Total Values', ascending=False).round(1)\n",
    "        \n",
    "        # Imprimir alguna información resumida\n",
    "        print (\"El conjunto de datos tiene \" + str(df.shape[1]) + \" columnas.\\n\"      \n",
    "            \"Hay \" + str(mis_val_table.shape[0]) +\n",
    "              \" columnas que contienen valores perdidos.\")\n",
    "        \n",
    "        # Devolver el marco de datos con información faltante\n",
    "        return mis_val_table"
   ]
  },
  {
   "cell_type": "code",
   "execution_count": 23,
   "id": "29b13013-cd80-4692-b293-bd1a98037536",
   "metadata": {},
   "outputs": [
    {
     "name": "stdout",
     "output_type": "stream",
     "text": [
      "El conjunto de datos tiene 24 columnas.\n",
      "Hay 0 columnas que contienen valores perdidos.\n"
     ]
    },
    {
     "data": {
      "text/html": [
       "<div>\n",
       "<style scoped>\n",
       "    .dataframe tbody tr th:only-of-type {\n",
       "        vertical-align: middle;\n",
       "    }\n",
       "\n",
       "    .dataframe tbody tr th {\n",
       "        vertical-align: top;\n",
       "    }\n",
       "\n",
       "    .dataframe thead th {\n",
       "        text-align: right;\n",
       "    }\n",
       "</style>\n",
       "<table border=\"1\" class=\"dataframe\">\n",
       "  <thead>\n",
       "    <tr style=\"text-align: right;\">\n",
       "      <th></th>\n",
       "      <th>Missing Values</th>\n",
       "      <th>% of Total Values</th>\n",
       "    </tr>\n",
       "  </thead>\n",
       "  <tbody>\n",
       "  </tbody>\n",
       "</table>\n",
       "</div>"
      ],
      "text/plain": [
       "Empty DataFrame\n",
       "Columns: [Missing Values, % of Total Values]\n",
       "Index: []"
      ]
     },
     "execution_count": 23,
     "metadata": {},
     "output_type": "execute_result"
    }
   ],
   "source": [
    "mis_val_table = missing_values_table(df)\n",
    "mis_val_table.tail(20)"
   ]
  },
  {
   "cell_type": "code",
   "execution_count": 24,
   "id": "92e07471-824c-4ec8-bd25-d15593437dd6",
   "metadata": {},
   "outputs": [],
   "source": [
    "def feature_type_split(data):\n",
    "    cat_list = []\n",
    "    dis_num_list = []\n",
    "    num_list = []\n",
    "    for i in data.columns.tolist():\n",
    "        if data[i].dtype == 'object':\n",
    "            cat_list.append(i)\n",
    "        elif data[i].nunique() < 25:\n",
    "            dis_num_list.append(i)\n",
    "        \n",
    "        else:\n",
    "            num_list.append(i)\n",
    "    return cat_list, dis_num_list, num_list\n",
    "\n",
    "cat_list, dis_num_list, num_list = feature_type_split(df) "
   ]
  },
  {
   "cell_type": "code",
   "execution_count": 25,
   "id": "4395c590-f645-4d36-99df-dae1eaa6744a",
   "metadata": {},
   "outputs": [
    {
     "name": "stdout",
     "output_type": "stream",
     "text": [
      "num_list 14\n",
      "cat_list 0\n",
      "dis_num_list 10\n"
     ]
    }
   ],
   "source": [
    "f_c_numeric = df[num_list]\n",
    "df_categorical = df[cat_list]\n",
    "df_d_numeric = df[dis_num_list]\n",
    "\n",
    "print(\"num_list\",len(num_list))\n",
    "print(\"cat_list\",len(cat_list))\n",
    "print(\"dis_num_list\",len(dis_num_list))"
   ]
  },
  {
   "cell_type": "code",
   "execution_count": 26,
   "id": "f664d79a-ba36-472d-9eb2-8916a5a94aef",
   "metadata": {},
   "outputs": [
    {
     "name": "stdout",
     "output_type": "stream",
     "text": [
      "                   Media   Mediana   Moda\n",
      "LIMIT_BAL  167484.322667  140000.0  50000\n",
      "SEX             1.603733       2.0      2\n",
      "EDUCATION       1.853133       2.0      2\n",
      "MARRIAGE        1.551867       2.0      2\n",
      "AGE            35.485500      34.0     29\n",
      "PAY_1          -0.016700       0.0      0\n",
      "PAY_2          -0.133767       0.0      0\n",
      "PAY_3          -0.166200       0.0      0\n",
      "PAY_4          -0.220667       0.0      0\n",
      "PAY_5          -0.266200       0.0      0\n",
      "PAY_6          -0.291100       0.0      0\n",
      "BILL_AMT1   51223.330900   22381.5      0\n",
      "BILL_AMT2   49179.075167   21200.0      0\n",
      "BILL_AMT3   47013.154800   20088.5      0\n",
      "BILL_AMT4   43262.948967   19052.0      0\n",
      "BILL_AMT5   40311.400967   18104.5      0\n",
      "BILL_AMT6   38871.760400   17071.0      0\n",
      "PAY_AMT1     5663.580500    2100.0      0\n",
      "PAY_AMT2     5921.163500    2009.0      0\n",
      "PAY_AMT3     5225.681500    1800.0      0\n",
      "PAY_AMT4     4826.076867    1500.0      0\n",
      "PAY_AMT5     4799.387633    1500.0      0\n",
      "PAY_AMT6     5215.502567    1500.0      0\n",
      "DEFAULT         0.221200       0.0      0\n"
     ]
    }
   ],
   "source": [
    "import statistics\n",
    "med_dispersion = pd.DataFrame()\n",
    "med_dispersion['Media'] = df.mean()\n",
    "med_dispersion['Mediana'] = df.median()\n",
    "med_dispersion['Moda'] = df.mode().iloc[0]\n",
    "print(med_dispersion)"
   ]
  },
  {
   "cell_type": "markdown",
   "id": "66eb9632-9ce9-46ed-b3d4-59540ab29feb",
   "metadata": {},
   "source": [
    "### Asimetría y Curtosis de las Variables"
   ]
  },
  {
   "cell_type": "code",
   "execution_count": 27,
   "id": "c151bee8-90fe-4bdd-918f-0b3863202f5d",
   "metadata": {},
   "outputs": [
    {
     "name": "stdout",
     "output_type": "stream",
     "text": [
      "Asimetría de cada variable numérica:\n",
      " LIMIT_BAL     0.992817\n",
      "SEX          -0.424162\n",
      "EDUCATION     0.970923\n",
      "MARRIAGE     -0.018741\n",
      "AGE           0.732209\n",
      "PAY_1         0.731938\n",
      "PAY_2         0.790525\n",
      "PAY_3         0.840640\n",
      "PAY_4         0.999579\n",
      "PAY_5         1.008147\n",
      "PAY_6         0.947982\n",
      "BILL_AMT1     2.663728\n",
      "BILL_AMT2     2.705086\n",
      "BILL_AMT3     3.087676\n",
      "BILL_AMT4     2.821824\n",
      "BILL_AMT5     2.876236\n",
      "BILL_AMT6     2.846502\n",
      "PAY_AMT1     14.667631\n",
      "PAY_AMT2     30.452295\n",
      "PAY_AMT3     17.215775\n",
      "PAY_AMT4     12.904340\n",
      "PAY_AMT5     11.126861\n",
      "PAY_AMT6     10.640195\n",
      "DEFAULT       1.343437\n",
      "dtype: float64\n"
     ]
    }
   ],
   "source": [
    "from scipy.stats import skew, kurtosis\n",
    "asimetria = df.apply(lambda x: skew(x))\n",
    "print('Asimetría de cada variable numérica:\\n', asimetria)"
   ]
  },
  {
   "cell_type": "code",
   "execution_count": 28,
   "id": "02a30e81-4c10-49aa-86fa-1b3bb6bd9412",
   "metadata": {},
   "outputs": [
    {
     "name": "stdout",
     "output_type": "stream",
     "text": [
      "\n",
      "Curtosis de cada variable numérica:\n",
      " LIMIT_BAL       0.535974\n",
      "SEX            -1.820086\n",
      "EDUCATION       2.078075\n",
      "MARRIAGE       -1.363341\n",
      "AGE             0.044096\n",
      "PAY_1           2.720062\n",
      "PAY_2           1.569956\n",
      "PAY_3           2.083888\n",
      "PAY_4           3.496201\n",
      "PAY_5           3.988883\n",
      "PAY_6           3.425763\n",
      "BILL_AMT1       9.804455\n",
      "BILL_AMT2      10.301029\n",
      "BILL_AMT3      19.779758\n",
      "BILL_AMT4      11.307240\n",
      "BILL_AMT5      12.303630\n",
      "BILL_AMT6      12.268460\n",
      "PAY_AMT1      415.185337\n",
      "PAY_AMT2     1641.358118\n",
      "PAY_AMT3      564.216982\n",
      "PAY_AMT4      277.287348\n",
      "PAY_AMT5      180.033731\n",
      "PAY_AMT6      167.133371\n",
      "DEFAULT        -0.195178\n",
      "dtype: float64\n"
     ]
    }
   ],
   "source": [
    "curtosis = df.apply(lambda x: kurtosis(x))\n",
    "print('\\nCurtosis de cada variable numérica:\\n', curtosis)"
   ]
  },
  {
   "cell_type": "markdown",
   "id": "df4dc1fe-0837-449a-8954-b646eec2c575",
   "metadata": {},
   "source": [
    "### Detección de Outliers con Boxplot y verificación de la densidad de las variables"
   ]
  },
  {
   "cell_type": "code",
   "execution_count": 29,
   "id": "de54839d-89dc-4bea-9222-a33ac79f2276",
   "metadata": {},
   "outputs": [],
   "source": [
    "def plot_num(feature):\n",
    "    fig,axes=plt.subplots(1,2)\n",
    "    sns.boxplot(data=df,x=feature,ax=axes[0])\n",
    "    sns.distplot(a=df[feature],ax=axes[1],color='#ff4125')\n",
    "    fig.set_size_inches(15,5)"
   ]
  },
  {
   "cell_type": "code",
   "execution_count": 30,
   "id": "9dbe5957-0ff1-4b47-857a-b4cbc737a284",
   "metadata": {},
   "outputs": [
    {
     "data": {
      "image/png": "[encoded data removed]",
      "text/plain": [
       "<Figure size 1080x360 with 2 Axes>"
      ]
     },
     "metadata": {
      "needs_background": "light"
     },
     "output_type": "display_data"
    }
   ],
   "source": [
    "plot_num('LIMIT_BAL')"
   ]
  },
  {
   "cell_type": "code",
   "execution_count": 31,
   "id": "d42dd835-eff3-4c8a-9440-67d0d8c5e9f3",
   "metadata": {
    "id": "1GmZYLNEQMSS"
   },
   "outputs": [
    {
     "data": {
      "image/png": "[encoded data removed]",
      "text/plain": [
       "<Figure size 1080x360 with 2 Axes>"
      ]
     },
     "metadata": {
      "needs_background": "light"
     },
     "output_type": "display_data"
    }
   ],
   "source": [
    "plot_num('AGE')"
   ]
  },
  {
   "cell_type": "code",
   "execution_count": 32,
   "id": "3047890a-190e-420e-93e1-7843a8bafa24",
   "metadata": {
    "id": "PUDsZv0ZQMSS"
   },
   "outputs": [
    {
     "data": {
      "image/png": "[encoded data removed]",
      "text/plain": [
       "<Figure size 1080x360 with 2 Axes>"
      ]
     },
     "metadata": {
      "needs_background": "light"
     },
     "output_type": "display_data"
    }
   ],
   "source": [
    "plot_num('PAY_1')"
   ]
  },
  {
   "cell_type": "code",
   "execution_count": 33,
   "id": "0c9984d5-d868-4cf6-a3dd-5929f6f91f87",
   "metadata": {
    "id": "w9VCYhMmQMSS",
    "tags": []
   },
   "outputs": [
    {
     "data": {
      "image/png": "[encoded data removed]",
      "text/plain": [
       "<Figure size 1080x360 with 2 Axes>"
      ]
     },
     "metadata": {
      "needs_background": "light"
     },
     "output_type": "display_data"
    }
   ],
   "source": [
    "plot_num('PAY_2')"
   ]
  },
  {
   "cell_type": "code",
   "execution_count": 34,
   "id": "05819e01-3935-4df4-8338-365357e18e4c",
   "metadata": {
    "id": "kYLCEzdtQMST"
   },
   "outputs": [
    {
     "data": {
      "image/png": "[encoded data removed]",
      "text/plain": [
       "<Figure size 1080x360 with 2 Axes>"
      ]
     },
     "metadata": {
      "needs_background": "light"
     },
     "output_type": "display_data"
    }
   ],
   "source": [
    "plot_num('PAY_3')"
   ]
  },
  {
   "cell_type": "code",
   "execution_count": 35,
   "id": "3dd76d8b-54ce-4af4-96f5-342e439f61f6",
   "metadata": {
    "id": "w21o77rkQMST"
   },
   "outputs": [
    {
     "data": {
      "image/png": "[encoded data removed]",
      "text/plain": [
       "<Figure size 1080x360 with 2 Axes>"
      ]
     },
     "metadata": {
      "needs_background": "light"
     },
     "output_type": "display_data"
    }
   ],
   "source": [
    "plot_num('PAY_4')"
   ]
  },
  {
   "cell_type": "code",
   "execution_count": 36,
   "id": "e95d2755-f36d-4d7a-8452-8a731294f856",
   "metadata": {
    "id": "UhA4EVQwQMSU"
   },
   "outputs": [
    {
     "data": {
      "image/png": "[encoded data removed]",
      "text/plain": [
       "<Figure size 1080x360 with 2 Axes>"
      ]
     },
     "metadata": {
      "needs_background": "light"
     },
     "output_type": "display_data"
    }
   ],
   "source": [
    "plot_num('PAY_5')"
   ]
  },
  {
   "cell_type": "code",
   "execution_count": 37,
   "id": "4d67ef76-8b03-4b93-9201-8bc46cfb4dc5",
   "metadata": {
    "id": "QzogWyKzQMSU"
   },
   "outputs": [
    {
     "data": {
      "image/png": "[encoded data removed]",
      "text/plain": [
       "<Figure size 1080x360 with 2 Axes>"
      ]
     },
     "metadata": {
      "needs_background": "light"
     },
     "output_type": "display_data"
    }
   ],
   "source": [
    "plot_num('PAY_6')"
   ]
  },
  {
   "cell_type": "code",
   "execution_count": 38,
   "id": "1382d84b-49bb-4525-81c2-be0d7554eab7",
   "metadata": {
    "id": "RM6rb749QMSV"
   },
   "outputs": [
    {
     "data": {
      "image/png": "[encoded data removed]",
      "text/plain": [
       "<Figure size 1080x360 with 2 Axes>"
      ]
     },
     "metadata": {
      "needs_background": "light"
     },
     "output_type": "display_data"
    }
   ],
   "source": [
    "plot_num('BILL_AMT1')"
   ]
  },
  {
   "cell_type": "code",
   "execution_count": 39,
   "id": "534b5a11-da3e-4822-b13e-ce1e33301641",
   "metadata": {
    "id": "TVucdLFuQMSV"
   },
   "outputs": [
    {
     "data": {
      "image/png": "[encoded data removed]",
      "text/plain": [
       "<Figure size 1080x360 with 2 Axes>"
      ]
     },
     "metadata": {
      "needs_background": "light"
     },
     "output_type": "display_data"
    }
   ],
   "source": [
    "plot_num('BILL_AMT2')"
   ]
  },
  {
   "cell_type": "code",
   "execution_count": 40,
   "id": "bead5e6e-c3e5-41f3-8bfc-b24c9500db08",
   "metadata": {
    "id": "9r2JG7TeQMSV"
   },
   "outputs": [
    {
     "data": {
      "image/png": "[encoded data removed]",
      "text/plain": [
       "<Figure size 1080x360 with 2 Axes>"
      ]
     },
     "metadata": {
      "needs_background": "light"
     },
     "output_type": "display_data"
    }
   ],
   "source": [
    "plot_num('BILL_AMT3')"
   ]
  },
  {
   "cell_type": "code",
   "execution_count": 41,
   "id": "a54f5766-a3dc-4b6b-b6c0-db999d292f65",
   "metadata": {
    "id": "dI3ZnfcpQMSV"
   },
   "outputs": [
    {
     "data": {
      "image/png": "[encoded data removed]",
      "text/plain": [
       "<Figure size 1080x360 with 2 Axes>"
      ]
     },
     "metadata": {
      "needs_background": "light"
     },
     "output_type": "display_data"
    }
   ],
   "source": [
    "plot_num('BILL_AMT4')"
   ]
  },
  {
   "cell_type": "code",
   "execution_count": 42,
   "id": "55f7b54c-e6a3-491c-a698-0ff00974a23d",
   "metadata": {
    "id": "YaCQy7jsQMSW"
   },
   "outputs": [
    {
     "data": {
      "image/png": "[encoded data removed]",
      "text/plain": [
       "<Figure size 1080x360 with 2 Axes>"
      ]
     },
     "metadata": {
      "needs_background": "light"
     },
     "output_type": "display_data"
    }
   ],
   "source": [
    "plot_num('BILL_AMT5')"
   ]
  },
  {
   "cell_type": "code",
   "execution_count": 43,
   "id": "329f0d6a-4151-47a9-9005-e43243d1f53f",
   "metadata": {
    "id": "dkunm0B6QMSW"
   },
   "outputs": [
    {
     "data": {
      "image/png": "[encoded data removed]",
      "text/plain": [
       "<Figure size 1080x360 with 2 Axes>"
      ]
     },
     "metadata": {
      "needs_background": "light"
     },
     "output_type": "display_data"
    }
   ],
   "source": [
    "plot_num('BILL_AMT6')"
   ]
  },
  {
   "cell_type": "code",
   "execution_count": 44,
   "id": "d51299b2-da8b-4e52-a4aa-d7c77a71d8d6",
   "metadata": {
    "id": "6uCz71-UQMSX"
   },
   "outputs": [
    {
     "data": {
      "image/png": "[encoded data removed]",
      "text/plain": [
       "<Figure size 1080x360 with 2 Axes>"
      ]
     },
     "metadata": {
      "needs_background": "light"
     },
     "output_type": "display_data"
    }
   ],
   "source": [
    "plot_num('PAY_AMT1')"
   ]
  },
  {
   "cell_type": "code",
   "execution_count": 45,
   "id": "cf90ef57-7155-4b80-9a1b-219361002934",
   "metadata": {
    "id": "7mw5WETVQMSX"
   },
   "outputs": [
    {
     "data": {
      "image/png": "[encoded data removed]",
      "text/plain": [
       "<Figure size 1080x360 with 2 Axes>"
      ]
     },
     "metadata": {
      "needs_background": "light"
     },
     "output_type": "display_data"
    }
   ],
   "source": [
    "plot_num('PAY_AMT2')"
   ]
  },
  {
   "cell_type": "code",
   "execution_count": 46,
   "id": "667d8662-1f18-465c-9d81-f7238faec0e5",
   "metadata": {
    "id": "-Ek-rwDMQMSX"
   },
   "outputs": [
    {
     "data": {
      "image/png": "[encoded data removed]",
      "text/plain": [
       "<Figure size 1080x360 with 2 Axes>"
      ]
     },
     "metadata": {
      "needs_background": "light"
     },
     "output_type": "display_data"
    }
   ],
   "source": [
    "plot_num('PAY_AMT3')"
   ]
  },
  {
   "cell_type": "code",
   "execution_count": 47,
   "id": "181f8f8a-f779-4b35-afbb-a6faf6040c32",
   "metadata": {
    "id": "4KQBnzE0QMSX"
   },
   "outputs": [
    {
     "data": {
      "image/png": "[encoded data removed]",
      "text/plain": [
       "<Figure size 1080x360 with 2 Axes>"
      ]
     },
     "metadata": {
      "needs_background": "light"
     },
     "output_type": "display_data"
    }
   ],
   "source": [
    "plot_num('PAY_AMT4')"
   ]
  },
  {
   "cell_type": "code",
   "execution_count": 48,
   "id": "2472bef5-cc74-41c7-b5c6-de1331faad1d",
   "metadata": {
    "id": "bn-Q2_nEQMSY"
   },
   "outputs": [
    {
     "data": {
      "image/png": "[encoded data removed]",
      "text/plain": [
       "<Figure size 1080x360 with 2 Axes>"
      ]
     },
     "metadata": {
      "needs_background": "light"
     },
     "output_type": "display_data"
    }
   ],
   "source": [
    "plot_num('PAY_AMT5')"
   ]
  },
  {
   "cell_type": "code",
   "execution_count": 49,
   "id": "7a280613-d351-4b99-82d3-de2b57feb5f2",
   "metadata": {
    "id": "c_SaTp3JQMSY"
   },
   "outputs": [
    {
     "data": {
      "image/png": "[encoded data removed]",
      "text/plain": [
       "<Figure size 1080x360 with 2 Axes>"
      ]
     },
     "metadata": {
      "needs_background": "light"
     },
     "output_type": "display_data"
    }
   ],
   "source": [
    "plot_num('PAY_AMT6')"
   ]
  },
  {
   "cell_type": "markdown",
   "id": "ac833319-00dc-49be-8e05-4ce46a53b28c",
   "metadata": {
    "tags": []
   },
   "source": [
    "### Análisis de Variables"
   ]
  },
  {
   "cell_type": "markdown",
   "id": "cd9b67de-3e96-4fa3-8790-8d521df2d96c",
   "metadata": {},
   "source": [
    "Deseo saber si la cantidad de meses que se ha atrasado en pagar los clientes es diferente entre hombres y mujeres en mi dataset, así que planteo las hipótesis:\n",
    "- H0: La media de meses atrasados es similar entre hombres y mujeres\n",
    "- H1: La media de meses atrasados es diferente entre hombres y mujeres"
   ]
  },
  {
   "cell_type": "code",
   "execution_count": 50,
   "id": "295ff31d-7a3c-4906-a2c2-ad33a0d9f340",
   "metadata": {},
   "outputs": [
    {
     "data": {
      "text/html": [
       "<div>\n",
       "<style scoped>\n",
       "    .dataframe tbody tr th:only-of-type {\n",
       "        vertical-align: middle;\n",
       "    }\n",
       "\n",
       "    .dataframe tbody tr th {\n",
       "        vertical-align: top;\n",
       "    }\n",
       "\n",
       "    .dataframe thead th {\n",
       "        text-align: right;\n",
       "    }\n",
       "</style>\n",
       "<table border=\"1\" class=\"dataframe\">\n",
       "  <thead>\n",
       "    <tr style=\"text-align: right;\">\n",
       "      <th></th>\n",
       "      <th>T</th>\n",
       "      <th>dof</th>\n",
       "      <th>alternative</th>\n",
       "      <th>p-val</th>\n",
       "      <th>CI95%</th>\n",
       "      <th>cohen-d</th>\n",
       "      <th>BF10</th>\n",
       "      <th>power</th>\n",
       "    </tr>\n",
       "  </thead>\n",
       "  <tbody>\n",
       "    <tr>\n",
       "      <th>T-test</th>\n",
       "      <td>9.970227</td>\n",
       "      <td>25162.897971</td>\n",
       "      <td>two-sided</td>\n",
       "      <td>2.273697e-23</td>\n",
       "      <td>[0.11, 0.16]</td>\n",
       "      <td>0.118042</td>\n",
       "      <td>4.605e+19</td>\n",
       "      <td>1.0</td>\n",
       "    </tr>\n",
       "  </tbody>\n",
       "</table>\n",
       "</div>"
      ],
      "text/plain": [
       "               T           dof alternative         p-val         CI95%  \\\n",
       "T-test  9.970227  25162.897971   two-sided  2.273697e-23  [0.11, 0.16]   \n",
       "\n",
       "         cohen-d       BF10  power  \n",
       "T-test  0.118042  4.605e+19    1.0  "
      ]
     },
     "execution_count": 50,
     "metadata": {},
     "output_type": "execute_result"
    }
   ],
   "source": [
    "import pingouin as pg\n",
    "df0 = df[df['SEX'] == 1].PAY_1\n",
    "df1 = df[df['SEX'] == 2].PAY_1\n",
    "pg.ttest(df0,df1, paired=False)"
   ]
  },
  {
   "cell_type": "markdown",
   "id": "a4d1df30-db04-461b-b124-8b0d7d3743f0",
   "metadata": {},
   "source": [
    "Como el p-valor es menor a 0.05 se concluye que hay diferencias significativas entre la cantidad de meses atrasados de pago entre hombres y mujeres"
   ]
  },
  {
   "cell_type": "markdown",
   "id": "9e478339-4194-4785-a473-4094e80f9c79",
   "metadata": {},
   "source": [
    "Ahora quiero saber si la cantidad de meses que se han atrasado en pagar los clientes es diferente entre los diferentes niveles de educación que tengan:"
   ]
  },
  {
   "cell_type": "markdown",
   "id": "78d934d5-38d8-4d9e-858a-39de1643e68a",
   "metadata": {},
   "source": [
    "Primero me quedo con los valores relevantes de los clientes según nivel de Educación, que son 3: graduado, universidad y bachillerato"
   ]
  },
  {
   "cell_type": "code",
   "execution_count": 51,
   "id": "7f39cee5-56ea-4dc3-8691-6874623d2560",
   "metadata": {},
   "outputs": [
    {
     "data": {
      "image/png": "[encoded data removed]",
      "text/plain": [
       "<Figure size 432x288 with 1 Axes>"
      ]
     },
     "metadata": {
      "needs_background": "light"
     },
     "output_type": "display_data"
    }
   ],
   "source": [
    "df2 = df.drop(df[df['EDUCATION'].isin([0, 4, 5, 6])].index)\n",
    "sns.countplot(data=df2,x='EDUCATION')\n",
    "ax=sns.countplot(data=df2,x='EDUCATION')"
   ]
  },
  {
   "cell_type": "markdown",
   "id": "74a6008d-fd22-4423-876d-abc85a7bf6fe",
   "metadata": {},
   "source": [
    "Verifico si la Educación cumple con el supuesto de Homocedasticidad"
   ]
  },
  {
   "cell_type": "code",
   "execution_count": 52,
   "id": "20e5cb79-19ab-455f-9f60-aaab4de0f5be",
   "metadata": {},
   "outputs": [
    {
     "data": {
      "text/html": [
       "<div>\n",
       "<style scoped>\n",
       "    .dataframe tbody tr th:only-of-type {\n",
       "        vertical-align: middle;\n",
       "    }\n",
       "\n",
       "    .dataframe tbody tr th {\n",
       "        vertical-align: top;\n",
       "    }\n",
       "\n",
       "    .dataframe thead th {\n",
       "        text-align: right;\n",
       "    }\n",
       "</style>\n",
       "<table border=\"1\" class=\"dataframe\">\n",
       "  <thead>\n",
       "    <tr style=\"text-align: right;\">\n",
       "      <th></th>\n",
       "      <th>W</th>\n",
       "      <th>pval</th>\n",
       "      <th>equal_var</th>\n",
       "    </tr>\n",
       "  </thead>\n",
       "  <tbody>\n",
       "    <tr>\n",
       "      <th>levene</th>\n",
       "      <td>70.810485</td>\n",
       "      <td>2.093663e-31</td>\n",
       "      <td>False</td>\n",
       "    </tr>\n",
       "  </tbody>\n",
       "</table>\n",
       "</div>"
      ],
      "text/plain": [
       "                W          pval  equal_var\n",
       "levene  70.810485  2.093663e-31      False"
      ]
     },
     "execution_count": 52,
     "metadata": {},
     "output_type": "execute_result"
    }
   ],
   "source": [
    "pg.homoscedasticity(df2, dv='PAY_1', group='EDUCATION')"
   ]
  },
  {
   "cell_type": "markdown",
   "id": "94e01ff0-1fdb-4221-ae32-0c19853fcea0",
   "metadata": {},
   "source": [
    "Como no cumple con la homocedasticidad, no podemos usar la anova simple, así que usamos la anova welch"
   ]
  },
  {
   "cell_type": "code",
   "execution_count": 53,
   "id": "6d277463-3334-4171-852e-fee1b2bb952b",
   "metadata": {},
   "outputs": [
    {
     "data": {
      "text/html": [
       "<div>\n",
       "<style scoped>\n",
       "    .dataframe tbody tr th:only-of-type {\n",
       "        vertical-align: middle;\n",
       "    }\n",
       "\n",
       "    .dataframe tbody tr th {\n",
       "        vertical-align: top;\n",
       "    }\n",
       "\n",
       "    .dataframe thead th {\n",
       "        text-align: right;\n",
       "    }\n",
       "</style>\n",
       "<table border=\"1\" class=\"dataframe\">\n",
       "  <thead>\n",
       "    <tr style=\"text-align: right;\">\n",
       "      <th></th>\n",
       "      <th>Source</th>\n",
       "      <th>ddof1</th>\n",
       "      <th>ddof2</th>\n",
       "      <th>F</th>\n",
       "      <th>p-unc</th>\n",
       "      <th>np2</th>\n",
       "    </tr>\n",
       "  </thead>\n",
       "  <tbody>\n",
       "    <tr>\n",
       "      <th>0</th>\n",
       "      <td>EDUCATION</td>\n",
       "      <td>2</td>\n",
       "      <td>13237.457841</td>\n",
       "      <td>327.25012</td>\n",
       "      <td>1.900611e-139</td>\n",
       "      <td>0.021611</td>\n",
       "    </tr>\n",
       "  </tbody>\n",
       "</table>\n",
       "</div>"
      ],
      "text/plain": [
       "      Source  ddof1         ddof2          F          p-unc       np2\n",
       "0  EDUCATION      2  13237.457841  327.25012  1.900611e-139  0.021611"
      ]
     },
     "execution_count": 53,
     "metadata": {},
     "output_type": "execute_result"
    }
   ],
   "source": [
    "pg.welch_anova(data=df2, dv='PAY_1', between='EDUCATION')"
   ]
  },
  {
   "cell_type": "markdown",
   "id": "82e15d99-fab8-4011-af9c-c0dc4f232f6d",
   "metadata": {},
   "source": [
    "Al ser menor que 0.05 significa que hay diferencias significativas entre los meses de atraso en los pagos con respecto a los niveles educativos de los clientes"
   ]
  },
  {
   "cell_type": "markdown",
   "id": "b9035f2f-b112-4769-b500-ba857304a504",
   "metadata": {},
   "source": [
    "Ahora quiero saber si la cantidad de meses que se han atrasado en pagar los clientes es diferente entre casados y solteros:"
   ]
  },
  {
   "cell_type": "code",
   "execution_count": 54,
   "id": "ad5ae153-f42c-4b6f-83ec-e0593699ae61",
   "metadata": {},
   "outputs": [
    {
     "data": {
      "image/png": "[encoded data removed]",
      "text/plain": [
       "<Figure size 432x288 with 1 Axes>"
      ]
     },
     "metadata": {
      "needs_background": "light"
     },
     "output_type": "display_data"
    }
   ],
   "source": [
    "df3 = df2.drop(df2[df2['MARRIAGE'].isin([0, 3])].index)\n",
    "sns.countplot(data=df3,x='MARRIAGE')\n",
    "ax=sns.countplot(data=df3,x='MARRIAGE')"
   ]
  },
  {
   "cell_type": "markdown",
   "id": "f0359871-ac8e-44dc-b64a-0d6dd03e45e2",
   "metadata": {},
   "source": [
    "Verifico si la variable marriage cumple con el supuesto de Homocedasticidad"
   ]
  },
  {
   "cell_type": "code",
   "execution_count": 55,
   "id": "730ed2e0-1dc0-44bd-89d6-55ff6710888c",
   "metadata": {},
   "outputs": [
    {
     "data": {
      "text/html": [
       "<div>\n",
       "<style scoped>\n",
       "    .dataframe tbody tr th:only-of-type {\n",
       "        vertical-align: middle;\n",
       "    }\n",
       "\n",
       "    .dataframe tbody tr th {\n",
       "        vertical-align: top;\n",
       "    }\n",
       "\n",
       "    .dataframe thead th {\n",
       "        text-align: right;\n",
       "    }\n",
       "</style>\n",
       "<table border=\"1\" class=\"dataframe\">\n",
       "  <thead>\n",
       "    <tr style=\"text-align: right;\">\n",
       "      <th></th>\n",
       "      <th>W</th>\n",
       "      <th>pval</th>\n",
       "      <th>equal_var</th>\n",
       "    </tr>\n",
       "  </thead>\n",
       "  <tbody>\n",
       "    <tr>\n",
       "      <th>levene</th>\n",
       "      <td>58.590936</td>\n",
       "      <td>2.000976e-14</td>\n",
       "      <td>False</td>\n",
       "    </tr>\n",
       "  </tbody>\n",
       "</table>\n",
       "</div>"
      ],
      "text/plain": [
       "                W          pval  equal_var\n",
       "levene  58.590936  2.000976e-14      False"
      ]
     },
     "execution_count": 55,
     "metadata": {},
     "output_type": "execute_result"
    }
   ],
   "source": [
    "pg.homoscedasticity(df3, dv='PAY_1', group='MARRIAGE')"
   ]
  },
  {
   "cell_type": "markdown",
   "id": "912acda0-7a19-4c6f-bcca-3b0dca843de3",
   "metadata": {},
   "source": [
    "Como no cumple con la homocedasticidad, no podemos usar la anova simple, así que usamos la anova welch"
   ]
  },
  {
   "cell_type": "code",
   "execution_count": 56,
   "id": "9d226f49-cf41-4d4f-a990-cb2970d189de",
   "metadata": {},
   "outputs": [
    {
     "data": {
      "text/html": [
       "<div>\n",
       "<style scoped>\n",
       "    .dataframe tbody tr th:only-of-type {\n",
       "        vertical-align: middle;\n",
       "    }\n",
       "\n",
       "    .dataframe tbody tr th {\n",
       "        vertical-align: top;\n",
       "    }\n",
       "\n",
       "    .dataframe thead th {\n",
       "        text-align: right;\n",
       "    }\n",
       "</style>\n",
       "<table border=\"1\" class=\"dataframe\">\n",
       "  <thead>\n",
       "    <tr style=\"text-align: right;\">\n",
       "      <th></th>\n",
       "      <th>Source</th>\n",
       "      <th>ddof1</th>\n",
       "      <th>ddof2</th>\n",
       "      <th>F</th>\n",
       "      <th>p-unc</th>\n",
       "      <th>np2</th>\n",
       "    </tr>\n",
       "  </thead>\n",
       "  <tbody>\n",
       "    <tr>\n",
       "      <th>0</th>\n",
       "      <td>MARRIAGE</td>\n",
       "      <td>1</td>\n",
       "      <td>27962.585116</td>\n",
       "      <td>5.243191</td>\n",
       "      <td>0.02204</td>\n",
       "      <td>0.000181</td>\n",
       "    </tr>\n",
       "  </tbody>\n",
       "</table>\n",
       "</div>"
      ],
      "text/plain": [
       "     Source  ddof1         ddof2         F    p-unc       np2\n",
       "0  MARRIAGE      1  27962.585116  5.243191  0.02204  0.000181"
      ]
     },
     "execution_count": 56,
     "metadata": {},
     "output_type": "execute_result"
    }
   ],
   "source": [
    "pg.welch_anova(data=df3, dv='PAY_1', between='MARRIAGE')"
   ]
  },
  {
   "cell_type": "markdown",
   "id": "86a8c711-3589-4bfd-9cb2-4a911eaa282d",
   "metadata": {},
   "source": [
    "Al ser menor que 0.05 significa que hay diferencias significativas entre los meses de atraso en los pagos con respecto al estado civil de los clientes"
   ]
  },
  {
   "cell_type": "markdown",
   "id": "7c719ef8-e2a9-48d9-b15e-ab6bf829f1e8",
   "metadata": {},
   "source": [
    "Deseo saber si el monto promedio que pagan los clientes mensualmente es diferente entre hombres y mujeres, así que planteo las hipótesis:\n",
    "- H0: La media del monto promedio que pagan los clientes mensualmente es similar entre hombres y mujeres\n",
    "- H1: La media del monto promedio que pagan los clientes mensualmente es diferente entre hombres y mujeres"
   ]
  },
  {
   "cell_type": "code",
   "execution_count": 57,
   "id": "e1fd394c-59c7-4920-b070-27a6c52759a0",
   "metadata": {},
   "outputs": [],
   "source": [
    "df3['PAY_PROM'] = df3[['PAY_AMT1', 'PAY_AMT2', 'PAY_AMT3', 'PAY_AMT4', 'PAY_AMT5', 'PAY_AMT6']].mean(axis=1)"
   ]
  },
  {
   "cell_type": "code",
   "execution_count": 58,
   "id": "9e1a75c2-63ca-4db3-a3d5-4a7be66f7a12",
   "metadata": {},
   "outputs": [
    {
     "data": {
      "text/html": [
       "<div>\n",
       "<style scoped>\n",
       "    .dataframe tbody tr th:only-of-type {\n",
       "        vertical-align: middle;\n",
       "    }\n",
       "\n",
       "    .dataframe tbody tr th {\n",
       "        vertical-align: top;\n",
       "    }\n",
       "\n",
       "    .dataframe thead th {\n",
       "        text-align: right;\n",
       "    }\n",
       "</style>\n",
       "<table border=\"1\" class=\"dataframe\">\n",
       "  <thead>\n",
       "    <tr style=\"text-align: right;\">\n",
       "      <th></th>\n",
       "      <th>T</th>\n",
       "      <th>dof</th>\n",
       "      <th>alternative</th>\n",
       "      <th>p-val</th>\n",
       "      <th>CI95%</th>\n",
       "      <th>cohen-d</th>\n",
       "      <th>BF10</th>\n",
       "      <th>power</th>\n",
       "    </tr>\n",
       "  </thead>\n",
       "  <tbody>\n",
       "    <tr>\n",
       "      <th>T-test</th>\n",
       "      <td>1.201503</td>\n",
       "      <td>24855.544676</td>\n",
       "      <td>two-sided</td>\n",
       "      <td>0.229568</td>\n",
       "      <td>[-86.17, 359.14]</td>\n",
       "      <td>0.014365</td>\n",
       "      <td>0.028</td>\n",
       "      <td>0.224468</td>\n",
       "    </tr>\n",
       "  </tbody>\n",
       "</table>\n",
       "</div>"
      ],
      "text/plain": [
       "               T           dof alternative     p-val             CI95%  \\\n",
       "T-test  1.201503  24855.544676   two-sided  0.229568  [-86.17, 359.14]   \n",
       "\n",
       "         cohen-d   BF10     power  \n",
       "T-test  0.014365  0.028  0.224468  "
      ]
     },
     "execution_count": 58,
     "metadata": {},
     "output_type": "execute_result"
    }
   ],
   "source": [
    "df0 = df3[df['SEX'] == 1].PAY_PROM\n",
    "df1 = df3[df['SEX'] == 2].PAY_PROM\n",
    "pg.ttest(df0,df1, paired=False)"
   ]
  },
  {
   "cell_type": "markdown",
   "id": "5521165e-1fb5-471c-beff-0c67f3ad3013",
   "metadata": {},
   "source": [
    "Como el p-valor es mayor a 0.05 se acepta la H0 y se concluye que no hay diferencias significativas entre el monto promedio que pagan los clientes mensualmente entre hombres y mujeres"
   ]
  },
  {
   "cell_type": "markdown",
   "id": "df4b193b-8b7c-4bf0-ba59-7ceb63f3f122",
   "metadata": {},
   "source": [
    "Ahora quiero saber si el monto promedio que pagan los clientes mensualmente es diferente entre los diferentes niveles de educación que tengan:"
   ]
  },
  {
   "cell_type": "code",
   "execution_count": 59,
   "id": "01bbf1df-f3b6-4006-9e69-142103e35001",
   "metadata": {},
   "outputs": [
    {
     "data": {
      "text/html": [
       "<div>\n",
       "<style scoped>\n",
       "    .dataframe tbody tr th:only-of-type {\n",
       "        vertical-align: middle;\n",
       "    }\n",
       "\n",
       "    .dataframe tbody tr th {\n",
       "        vertical-align: top;\n",
       "    }\n",
       "\n",
       "    .dataframe thead th {\n",
       "        text-align: right;\n",
       "    }\n",
       "</style>\n",
       "<table border=\"1\" class=\"dataframe\">\n",
       "  <thead>\n",
       "    <tr style=\"text-align: right;\">\n",
       "      <th></th>\n",
       "      <th>W</th>\n",
       "      <th>pval</th>\n",
       "      <th>equal_var</th>\n",
       "    </tr>\n",
       "  </thead>\n",
       "  <tbody>\n",
       "    <tr>\n",
       "      <th>levene</th>\n",
       "      <td>116.267699</td>\n",
       "      <td>5.079826e-51</td>\n",
       "      <td>False</td>\n",
       "    </tr>\n",
       "  </tbody>\n",
       "</table>\n",
       "</div>"
      ],
      "text/plain": [
       "                 W          pval  equal_var\n",
       "levene  116.267699  5.079826e-51      False"
      ]
     },
     "execution_count": 59,
     "metadata": {},
     "output_type": "execute_result"
    }
   ],
   "source": [
    "pg.homoscedasticity(df3, dv='PAY_PROM', group='EDUCATION')"
   ]
  },
  {
   "cell_type": "markdown",
   "id": "e523a8e0-42c9-4a8a-96f7-26b8dd992aee",
   "metadata": {},
   "source": [
    "Como no cumple con la homocedasticidad, no podemos usar la anova simple, así que usamos la anova welch"
   ]
  },
  {
   "cell_type": "code",
   "execution_count": 60,
   "id": "8bc69e77-15d5-41bb-8e08-aaa17e5010f2",
   "metadata": {},
   "outputs": [
    {
     "data": {
      "text/html": [
       "<div>\n",
       "<style scoped>\n",
       "    .dataframe tbody tr th:only-of-type {\n",
       "        vertical-align: middle;\n",
       "    }\n",
       "\n",
       "    .dataframe tbody tr th {\n",
       "        vertical-align: top;\n",
       "    }\n",
       "\n",
       "    .dataframe thead th {\n",
       "        text-align: right;\n",
       "    }\n",
       "</style>\n",
       "<table border=\"1\" class=\"dataframe\">\n",
       "  <thead>\n",
       "    <tr style=\"text-align: right;\">\n",
       "      <th></th>\n",
       "      <th>Source</th>\n",
       "      <th>ddof1</th>\n",
       "      <th>ddof2</th>\n",
       "      <th>F</th>\n",
       "      <th>p-unc</th>\n",
       "      <th>np2</th>\n",
       "    </tr>\n",
       "  </thead>\n",
       "  <tbody>\n",
       "    <tr>\n",
       "      <th>0</th>\n",
       "      <td>EDUCATION</td>\n",
       "      <td>2</td>\n",
       "      <td>13145.127017</td>\n",
       "      <td>103.088026</td>\n",
       "      <td>3.774981e-45</td>\n",
       "      <td>0.008349</td>\n",
       "    </tr>\n",
       "  </tbody>\n",
       "</table>\n",
       "</div>"
      ],
      "text/plain": [
       "      Source  ddof1         ddof2           F         p-unc       np2\n",
       "0  EDUCATION      2  13145.127017  103.088026  3.774981e-45  0.008349"
      ]
     },
     "execution_count": 60,
     "metadata": {},
     "output_type": "execute_result"
    }
   ],
   "source": [
    "pg.welch_anova(data=df3, dv='PAY_PROM', between='EDUCATION')"
   ]
  },
  {
   "cell_type": "markdown",
   "id": "489c21c5-8183-4aba-87ae-96dd6cd4c17b",
   "metadata": {},
   "source": [
    "Al ser menor que 0.05 significa que hay diferencias significativas entre el monto promedio que pagan los clientes mensualmente con respecto a los niveles educativos de los clientes"
   ]
  },
  {
   "cell_type": "markdown",
   "id": "6ea74d56-c4f4-4887-af85-2c1cec9d48a8",
   "metadata": {},
   "source": [
    "Ahora quiero saber si el monto promedio que pagan los clientes mensualmente es diferente entre casados y solteros:"
   ]
  },
  {
   "cell_type": "markdown",
   "id": "9dec6b24-7a8e-4995-8849-24528bcdfa61",
   "metadata": {},
   "source": [
    "Verifico si la variable marriage cumple con el supuesto de Homocedasticidad"
   ]
  },
  {
   "cell_type": "code",
   "execution_count": 61,
   "id": "78446919-4ea3-48c3-b786-e8a6dfcfd16d",
   "metadata": {},
   "outputs": [
    {
     "data": {
      "text/html": [
       "<div>\n",
       "<style scoped>\n",
       "    .dataframe tbody tr th:only-of-type {\n",
       "        vertical-align: middle;\n",
       "    }\n",
       "\n",
       "    .dataframe tbody tr th {\n",
       "        vertical-align: top;\n",
       "    }\n",
       "\n",
       "    .dataframe thead th {\n",
       "        text-align: right;\n",
       "    }\n",
       "</style>\n",
       "<table border=\"1\" class=\"dataframe\">\n",
       "  <thead>\n",
       "    <tr style=\"text-align: right;\">\n",
       "      <th></th>\n",
       "      <th>W</th>\n",
       "      <th>pval</th>\n",
       "      <th>equal_var</th>\n",
       "    </tr>\n",
       "  </thead>\n",
       "  <tbody>\n",
       "    <tr>\n",
       "      <th>levene</th>\n",
       "      <td>7.960799</td>\n",
       "      <td>0.004783</td>\n",
       "      <td>False</td>\n",
       "    </tr>\n",
       "  </tbody>\n",
       "</table>\n",
       "</div>"
      ],
      "text/plain": [
       "               W      pval  equal_var\n",
       "levene  7.960799  0.004783      False"
      ]
     },
     "execution_count": 61,
     "metadata": {},
     "output_type": "execute_result"
    }
   ],
   "source": [
    "pg.homoscedasticity(df3, dv='PAY_PROM', group='MARRIAGE')"
   ]
  },
  {
   "cell_type": "markdown",
   "id": "566aeb41-52fe-4b38-9c9e-0b0b66984dda",
   "metadata": {},
   "source": [
    "Como no cumple con la homocedasticidad, no podemos usar la anova simple, así que usamos la anova welch"
   ]
  },
  {
   "cell_type": "code",
   "execution_count": 62,
   "id": "9636750b-07f2-45b8-a184-bbfc1258eb84",
   "metadata": {},
   "outputs": [
    {
     "data": {
      "text/html": [
       "<div>\n",
       "<style scoped>\n",
       "    .dataframe tbody tr th:only-of-type {\n",
       "        vertical-align: middle;\n",
       "    }\n",
       "\n",
       "    .dataframe tbody tr th {\n",
       "        vertical-align: top;\n",
       "    }\n",
       "\n",
       "    .dataframe thead th {\n",
       "        text-align: right;\n",
       "    }\n",
       "</style>\n",
       "<table border=\"1\" class=\"dataframe\">\n",
       "  <thead>\n",
       "    <tr style=\"text-align: right;\">\n",
       "      <th></th>\n",
       "      <th>Source</th>\n",
       "      <th>ddof1</th>\n",
       "      <th>ddof2</th>\n",
       "      <th>F</th>\n",
       "      <th>p-unc</th>\n",
       "      <th>np2</th>\n",
       "    </tr>\n",
       "  </thead>\n",
       "  <tbody>\n",
       "    <tr>\n",
       "      <th>0</th>\n",
       "      <td>MARRIAGE</td>\n",
       "      <td>1</td>\n",
       "      <td>27338.849976</td>\n",
       "      <td>5.848203</td>\n",
       "      <td>0.015599</td>\n",
       "      <td>0.000204</td>\n",
       "    </tr>\n",
       "  </tbody>\n",
       "</table>\n",
       "</div>"
      ],
      "text/plain": [
       "     Source  ddof1         ddof2         F     p-unc       np2\n",
       "0  MARRIAGE      1  27338.849976  5.848203  0.015599  0.000204"
      ]
     },
     "execution_count": 62,
     "metadata": {},
     "output_type": "execute_result"
    }
   ],
   "source": [
    "pg.welch_anova(data=df3, dv='PAY_PROM', between='MARRIAGE')"
   ]
  },
  {
   "cell_type": "markdown",
   "id": "87255837-e4e4-4af0-b933-ead005c59dda",
   "metadata": {},
   "source": [
    "Al ser menor que 0.05 significa que hay diferencias significativas entre el monto promedio que pagan los clientes con respecto al estado civil de los clientes"
   ]
  },
  {
   "cell_type": "code",
   "execution_count": 63,
   "id": "21e14997-91b0-4567-99a9-2e2aa478b064",
   "metadata": {},
   "outputs": [
    {
     "data": {
      "image/png": "[encoded data removed]",
      "text/plain": [
       "<Figure size 1080x576 with 1 Axes>"
      ]
     },
     "metadata": {
      "needs_background": "light"
     },
     "output_type": "display_data"
    }
   ],
   "source": [
    "fig, ax = plt.subplots(figsize=(15, 8))\n",
    "sns.boxplot(data=f_c_numeric, ax=ax)\n",
    "plt.show()"
   ]
  },
  {
   "cell_type": "markdown",
   "id": "0e0cc237-6b5f-48ba-b0ca-1088473647b5",
   "metadata": {},
   "source": [
    "### Modelamiento"
   ]
  },
  {
   "cell_type": "code",
   "execution_count": 64,
   "id": "fe7b458e-4bbd-42d1-b456-a4525e52b3c9",
   "metadata": {
    "tags": []
   },
   "outputs": [],
   "source": [
    "X = df.drop('DEFAULT', axis=1)\n",
    "y = df['DEFAULT']"
   ]
  },
  {
   "cell_type": "code",
   "execution_count": 65,
   "id": "2bcc2ac7-ee15-4106-b4f8-4cb0215b661d",
   "metadata": {},
   "outputs": [],
   "source": [
    "from sklearn.model_selection import train_test_split\n",
    "from sklearn.metrics import mean_squared_error\n",
    "\n",
    "X_train, X_test, y_train, y_test = train_test_split(X, y, test_size=0.3, stratify=y, random_state=42)"
   ]
  },
  {
   "cell_type": "code",
   "execution_count": 66,
   "id": "019f8595-24ac-4f92-bedf-0c68d7a83fdf",
   "metadata": {},
   "outputs": [
    {
     "data": {
      "text/plain": [
       "((21000, 23), (21000,))"
      ]
     },
     "execution_count": 66,
     "metadata": {},
     "output_type": "execute_result"
    }
   ],
   "source": [
    "X_train.shape, y_train.shape"
   ]
  },
  {
   "cell_type": "code",
   "execution_count": 67,
   "id": "4a102e7b-f48b-4edb-9b9f-dba74973cdfb",
   "metadata": {},
   "outputs": [
    {
     "data": {
      "text/plain": [
       "((9000, 23), (9000,))"
      ]
     },
     "execution_count": 67,
     "metadata": {},
     "output_type": "execute_result"
    }
   ],
   "source": [
    "X_test.shape, y_test.shape"
   ]
  },
  {
   "cell_type": "code",
   "execution_count": 68,
   "id": "f468d5f1-b57c-4a90-947a-91f860a11a77",
   "metadata": {},
   "outputs": [],
   "source": [
    "from sklearn.preprocessing import StandardScaler\n",
    "scaler = StandardScaler()\n",
    "X_train_scaled = scaler.fit_transform(X_train)\n",
    "X_test_scaled = scaler.transform(X_test)"
   ]
  },
  {
   "cell_type": "code",
   "execution_count": 69,
   "id": "db00f509-fc48-43c2-b888-2533b63c02fd",
   "metadata": {},
   "outputs": [
    {
     "data": {
      "text/plain": [
       "((21000, 23), (21000,))"
      ]
     },
     "execution_count": 69,
     "metadata": {},
     "output_type": "execute_result"
    }
   ],
   "source": [
    "X_train_scaled.shape, y_train.shape"
   ]
  },
  {
   "cell_type": "code",
   "execution_count": 70,
   "id": "b1b868b3-04e8-47a7-bc81-49f2b70acac5",
   "metadata": {},
   "outputs": [
    {
     "data": {
      "text/plain": [
       "(array([ 1.67499143e+05,  1.60357143e+00,  1.85685714e+00,  1.55333333e+00,\n",
       "         3.54280476e+01, -1.51904762e-02, -1.33857143e-01, -1.65809524e-01,\n",
       "        -2.20142857e-01, -2.70714286e-01, -2.90666667e-01,  5.11942188e+04,\n",
       "         4.91408039e+04,  4.69834147e+04,  4.33144442e+04,  4.03257645e+04,\n",
       "         3.88376780e+04,  5.65430671e+03,  5.91290243e+03,  5.25224452e+03,\n",
       "         4.87620138e+03,  4.81956000e+03,  5.23414143e+03]),\n",
       " array([1.68386853e+10, 2.39272959e-01, 6.32367265e-01, 2.72488889e-01,\n",
       "        8.43562514e+01, 1.26210258e+00, 1.43955846e+00, 1.42650720e+00,\n",
       "        1.34987046e+00, 1.26323759e+00, 1.31237003e+00, 5.42170516e+09,\n",
       "        5.06388854e+09, 4.72313953e+09, 4.15090845e+09, 3.72190542e+09,\n",
       "        3.54641996e+09, 2.69766736e+08, 4.28564326e+08, 3.24579332e+08,\n",
       "        2.38971268e+08, 2.29694068e+08, 3.11517137e+08]))"
      ]
     },
     "execution_count": 70,
     "metadata": {},
     "output_type": "execute_result"
    }
   ],
   "source": [
    "scaler.mean_, scaler.var_"
   ]
  },
  {
   "cell_type": "code",
   "execution_count": 71,
   "id": "c2dfb2a8-3217-421f-b7a6-4625e15aec35",
   "metadata": {},
   "outputs": [
    {
     "name": "stdout",
     "output_type": "stream",
     "text": [
      "Classification Report for Logistic Regression:\n",
      "               precision    recall  f1-score   support\n",
      "\n",
      "           0       0.82      0.97      0.89      7009\n",
      "           1       0.70      0.24      0.35      1991\n",
      "\n",
      "    accuracy                           0.81      9000\n",
      "   macro avg       0.76      0.60      0.62      9000\n",
      "weighted avg       0.79      0.81      0.77      9000\n",
      "\n",
      "Classification Report for Decision Tree:\n",
      "               precision    recall  f1-score   support\n",
      "\n",
      "           0       0.82      0.81      0.82      7009\n",
      "           1       0.37      0.39      0.38      1991\n",
      "\n",
      "    accuracy                           0.72      9000\n",
      "   macro avg       0.60      0.60      0.60      9000\n",
      "weighted avg       0.72      0.72      0.72      9000\n",
      "\n",
      "Classification Report for Support Vector Machine:\n",
      "               precision    recall  f1-score   support\n",
      "\n",
      "           0       0.83      0.95      0.89      7009\n",
      "           1       0.66      0.33      0.44      1991\n",
      "\n",
      "    accuracy                           0.81      9000\n",
      "   macro avg       0.75      0.64      0.66      9000\n",
      "weighted avg       0.79      0.81      0.79      9000\n",
      "\n"
     ]
    }
   ],
   "source": [
    "from sklearn.metrics import classification_report\n",
    "from sklearn.linear_model import LogisticRegression\n",
    "from sklearn.tree import DecisionTreeClassifier\n",
    "from sklearn.svm import SVC\n",
    "\n",
    "lr = LogisticRegression(max_iter=1000)\n",
    "lr.fit(X_train_scaled, y_train)\n",
    "\n",
    "y_pred_lr = lr.predict(X_test_scaled)\n",
    "\n",
    "dt = DecisionTreeClassifier()\n",
    "dt.fit(X_train_scaled, y_train)\n",
    "\n",
    "y_pred_dt = dt.predict(X_test_scaled)\n",
    "\n",
    "svc = SVC()\n",
    "svc.fit(X_train_scaled, y_train)\n",
    "\n",
    "y_pred_svc = svc.predict(X_test_scaled)\n",
    "\n",
    "print(\"Classification Report for Logistic Regression:\\n\", classification_report(y_test, y_pred_lr))\n",
    "\n",
    "print(\"Classification Report for Decision Tree:\\n\", classification_report(y_test, y_pred_dt))\n",
    "\n",
    "print(\"Classification Report for Support Vector Machine:\\n\", classification_report(y_test, y_pred_svc))"
   ]
  },
  {
   "cell_type": "code",
   "execution_count": 72,
   "id": "25a08dd2-a923-43c8-8e67-146ee431a21b",
   "metadata": {},
   "outputs": [
    {
     "data": {
      "image/png": "[encoded data removed]",
      "text/plain": [
       "<Figure size 864x432 with 6 Axes>"
      ]
     },
     "metadata": {
      "needs_background": "light"
     },
     "output_type": "display_data"
    }
   ],
   "source": [
    "from sklearn.metrics import confusion_matrix\n",
    "\n",
    "models = {'Logistic Regression': y_pred_lr,\n",
    "          'Decision Tree': y_pred_dt,\n",
    "          'Support Vector Machine': y_pred_svc}\n",
    "\n",
    "plt.figure(figsize = (12,6))\n",
    "\n",
    "for i, (name, model) in enumerate(models.items(), 1):\n",
    "    plt.subplot(2,3,i)\n",
    "    cf_matrix = confusion_matrix(y_test, model)\n",
    "    sns.heatmap(cf_matrix, annot=True, cmap= 'Blues', fmt='g', annot_kws={\"fontsize\": 15})\n",
    "    plt.title(name, fontsize=17)\n",
    "    \n",
    "plt.tight_layout()\n",
    "plt.show()"
   ]
  },
  {
   "cell_type": "code",
   "execution_count": 73,
   "id": "7309cc1a-35ed-4e04-9ed7-104d44aa5d83",
   "metadata": {},
   "outputs": [
    {
     "name": "stdout",
     "output_type": "stream",
     "text": [
      "Recall LR: 0.24\n",
      "Precisión LR: 0.7\n",
      "F1-score LR: 0.35\n",
      "Recall DT: 0.39\n",
      "Precisión DT: 0.37\n",
      "F1-score DT: 0.38\n",
      "Recall SVM: 0.33\n",
      "Precisión SVM: 0.66\n",
      "F1-score SVM: 0.44\n"
     ]
    }
   ],
   "source": [
    "from sklearn.metrics import precision_score, recall_score, f1_score\n",
    "\n",
    "recall = recall_score(y_test, y_pred_lr)\n",
    "precision = precision_score(y_test, y_pred_lr)\n",
    "f1 = f1_score(y_test, y_pred_lr)\n",
    "recall = round(recall, 2)\n",
    "precision = round(precision, 2)\n",
    "f1 = round(f1, 2)\n",
    "print(\"Recall LR:\", recall)\n",
    "print(\"Precisión LR:\", precision)\n",
    "print(\"F1-score LR:\", f1)\n",
    "\n",
    "recall = recall_score(y_test, y_pred_dt)\n",
    "precision = precision_score(y_test, y_pred_dt)\n",
    "f1 = f1_score(y_test, y_pred_dt)\n",
    "recall = round(recall, 2)\n",
    "precision = round(precision, 2)\n",
    "f1 = round(f1, 2)\n",
    "print(\"Recall DT:\", recall)\n",
    "print(\"Precisión DT:\", precision)\n",
    "print(\"F1-score DT:\", f1)\n",
    "\n",
    "recall = recall_score(y_test, y_pred_svc)\n",
    "precision = precision_score(y_test, y_pred_svc)\n",
    "f1 = f1_score(y_test, y_pred_svc)\n",
    "recall = round(recall, 2)\n",
    "precision = round(precision, 2)\n",
    "f1 = round(f1, 2)\n",
    "print(\"Recall SVM:\", recall)\n",
    "print(\"Precisión SVM:\", precision)\n",
    "print(\"F1-score SVM:\", f1)\n"
   ]
  },
  {
   "cell_type": "markdown",
   "id": "be65281d-3ce4-460b-9305-b6c09cffed70",
   "metadata": {},
   "source": [
    "### Interpretación"
   ]
  },
  {
   "cell_type": "markdown",
   "id": "83c84803-6bf2-48fc-b1ba-365e5b4783f4",
   "metadata": {},
   "source": [
    "Comparación de métricas:\n",
    "- En cuanto al Accuracy, se puede decir que la Regresión Logística y el SVM tienen un valor alto (0.81)\n",
    "- En cuanto a la Precisión se observa que la Regresión Logística es superior a todas (0.70), seguida del SVM (0.66)\n",
    "- En los 3 modelos el Recall es bajo (menor a 0.4)\n",
    "- El F1-Score nos señala que el valor más alto es del SVM (0.44), seguido de la Regresión Logística (0.35).\n",
    "\n",
    "Al comparar estas métricas queda descartado el Decision Tree por tener los valores más bajos"
   ]
  },
  {
   "cell_type": "markdown",
   "id": "323060a4-fe69-449d-9def-67f372ac3384",
   "metadata": {},
   "source": [
    "Ahora, al interpretar las métricas para nuestro caso de aplicación, nosotros estamos haciendo un análisis para credit scoring, en el cual, el objetivo más importante es poder identificar a los clientes con mayor riesgo de impago y así el banco pueda evitar tener pérdidas. Por lo tanto la variable más importante para nosotros es la precisión ya que si esta es alta, nos va a garantizar que las personas calificadas como no pagadoras tengan una alta probabilidad de ser realmente no pagadoras."
   ]
  },
  {
   "cell_type": "markdown",
   "id": "1704b786-42ee-446e-af1d-d3cf9248b644",
   "metadata": {},
   "source": [
    "Dada esta consideración, el modelo con mayor precisión es el de Regresión Logística (0.70), sin embargo no tiene mucha diferencia con el de SVM (0.66)."
   ]
  },
  {
   "cell_type": "markdown",
   "id": "f30d05ce-0558-4c37-9fea-7eba12ddf734",
   "metadata": {},
   "source": [
    "En los 3 modelos el recall es bajo, lo cual es preocupante porque se podría aprobar créditos a personas que no son cumplidoras, lo que resultará en pérdidas para el banco."
   ]
  },
  {
   "cell_type": "markdown",
   "id": "8833cddf-739e-42f6-8b10-9b20f29bdbac",
   "metadata": {},
   "source": [
    "El F1-Score es importante también porque califica el rendimiento del modelo combinando la precisión y el recall"
   ]
  },
  {
   "cell_type": "markdown",
   "id": "adcaaf84-adc9-4c8b-abdf-60e57e568c52",
   "metadata": {},
   "source": [
    "Se puede concluir que el mejor modelo sería el SVM ya que es el más equilibrado, teniendo un Accuracy alto (0.81), una precisión media-alta (0.66) que es la métrica más importante, y el F1-Score más alto de los tres modelos comparados (0.44)."
   ]
  },
  {
   "cell_type": "markdown",
   "id": "daae5814-4a14-4e65-a471-e30feb7b60f5",
   "metadata": {},
   "source": [
    "## Desafío CrossValidation"
   ]
  },
  {
   "cell_type": "markdown",
   "id": "010c22ed-c5d3-4161-b6e2-2479d40dff3c",
   "metadata": {},
   "source": [
    "Selecciono el algoritmo SVM ya que me dio mejores métricas"
   ]
  },
  {
   "cell_type": "code",
   "execution_count": 79,
   "id": "2a8d5d63-ced1-4f49-a743-b703854c3704",
   "metadata": {},
   "outputs": [
    {
     "name": "stdout",
     "output_type": "stream",
     "text": [
      "Accuracy after increasing model complexity: 0.814\n",
      "Accuracy after feature engineering: 0.8088888888888889\n"
     ]
    }
   ],
   "source": [
    "from sklearn.preprocessing import PolynomialFeatures\n",
    "from sklearn.metrics import accuracy_score, classification_report\n",
    "# Increase model complexity\n",
    "\n",
    "svc = SVC(C=1.0, kernel='rbf', gamma='scale')\n",
    "svc.fit(X_train_scaled, y_train)\n",
    "y_pred = svc.predict(X_test_scaled)\n",
    "print('Accuracy after increasing model complexity:', accuracy_score(y_test, y_pred))\n",
    "\n",
    "# Perform feature engineering (create interaction features)\n",
    "poly = PolynomialFeatures(degree=2, interaction_only=True)\n",
    "X_train_poly = poly.fit_transform(X_train_scaled)\n",
    "X_test_poly = poly.transform(X_test_scaled)\n",
    "\n",
    "# Fit the classifier with the new features\n",
    "svc.fit(X_train_poly, y_train)\n",
    "y_pred_poly = svc.predict(X_test_poly)\n",
    "print('Accuracy after feature engineering:', accuracy_score(y_test, y_pred_poly))"
   ]
  },
  {
   "cell_type": "code",
   "execution_count": 82,
   "id": "008e759b-5cc2-4733-b0f4-56704a20bfc1",
   "metadata": {},
   "outputs": [
    {
     "name": "stdout",
     "output_type": "stream",
     "text": [
      "Train accuracy: 0.9920952380952381\n",
      "Test accuracy: 0.7675555555555555\n"
     ]
    }
   ],
   "source": [
    "# Create a decision tree classifier with no restrictions\n",
    "svc_overfit = SVC(C=10, kernel='rbf', gamma=0.5)\n",
    "\n",
    "# Fit the classifier with the new features\n",
    "svc_overfit.fit(X_train_poly, y_train)\n",
    "\n",
    "# Predict on the train set\n",
    "y_pred_train = svc_overfit.predict(X_train_poly)\n",
    "print('Train accuracy:', accuracy_score(y_train, y_pred_train))\n",
    "\n",
    "# Predict on the test set\n",
    "y_pred_test = svc_overfit.predict(X_test_poly)\n",
    "print('Test accuracy:', accuracy_score(y_test, y_pred_test))"
   ]
  },
  {
   "cell_type": "code",
   "execution_count": 84,
   "id": "a55cb926-cac5-4121-8905-fcd434bfdb20",
   "metadata": {},
   "outputs": [
    {
     "name": "stdout",
     "output_type": "stream",
     "text": [
      "Cross-Validation in train set: 0.9542380952380952\n",
      "Cross-Validation in Validation set: 0.7746666666666667\n"
     ]
    }
   ],
   "source": [
    "from sklearn.model_selection import cross_validate\n",
    "import numpy as np\n",
    "model = SVC(C=10, kernel='rbf', gamma=0.5)\n",
    "\n",
    "scores = cross_validate(model, X_train_scaled, y_train, cv=5, scoring='accuracy',\n",
    "                        return_train_score=True)\n",
    "\n",
    "print('Cross-Validation in train set:', np.mean(scores['train_score']))\n",
    "print('Cross-Validation in Validation set:', np.mean(scores['test_score']))"
   ]
  },
  {
   "cell_type": "code",
   "execution_count": 85,
   "id": "d126f0b0-ea6b-46a7-9109-50aaa5abc005",
   "metadata": {},
   "outputs": [
    {
     "data": {
      "text/plain": [
       "{'fit_time': array([26.37698364, 28.4804492 , 25.17841697, 27.57592201, 24.93654752]),\n",
       " 'score_time': array([2.98445106, 2.90196872, 2.87593317, 2.88243628, 3.06017518]),\n",
       " 'test_score': array([0.77547619, 0.77833333, 0.76642857, 0.77357143, 0.77952381]),\n",
       " 'train_score': array([0.95345238, 0.9547619 , 0.95440476, 0.95464286, 0.95392857])}"
      ]
     },
     "execution_count": 85,
     "metadata": {},
     "output_type": "execute_result"
    }
   ],
   "source": [
    "scores"
   ]
  },
  {
   "cell_type": "code",
   "execution_count": 86,
   "id": "6df0c120-248a-43b3-ab8a-017a0a799c13",
   "metadata": {},
   "outputs": [
    {
     "name": "stdout",
     "output_type": "stream",
     "text": [
      "Cross-Validation in train set : 0.9933333333333334\n",
      "Cross-Validation in Validation set: 0.7630952380952382\n"
     ]
    }
   ],
   "source": [
    "from sklearn.model_selection import StratifiedKFold\n",
    "\n",
    "# Create a StratifiedKFold object\n",
    "stratified_kfold = StratifiedKFold(n_splits=5, shuffle=True, random_state=42)\n",
    "\n",
    "# Perform stratified 5-fold cross validation\n",
    "scores = cross_validate(model, X_train_poly, y_train, cv=stratified_kfold, scoring='accuracy',\n",
    "                        return_train_score=True)\n",
    "\n",
    "print('Cross-Validation in train set :', np.mean(scores['train_score']))\n",
    "print('Cross-Validation in Validation set:', np.mean(scores['test_score']))"
   ]
  },
  {
   "cell_type": "markdown",
   "id": "6cb8bb9d-a98d-4b88-a5a5-3e519b0e24b6",
   "metadata": {},
   "source": [
    "#### Conclusiones del desafío"
   ]
  },
  {
   "cell_type": "markdown",
   "id": "a3aeee14-503d-47a0-9746-4a127ed6b7cf",
   "metadata": {},
   "source": [
    "Inicialmente al elegir el algoritmo SVM no tenía parámetros y las métricas no eran muy altas (Accuracy=0.81), luego le ingresé algunos parámetros al SVM y con eso el algoritmo estuvo sobre ajustado \n",
    "- Train accuracy: 0.992\n",
    "- Test accuracy: 0.768"
   ]
  },
  {
   "cell_type": "markdown",
   "id": "5fc5c4b1-ce8b-4ba6-bf34-13af4d9744ce",
   "metadata": {},
   "source": [
    "Como el desafío termina en el Cross Validation vamos a dejar al algoritmo con sobre ajuste, pero debemos corregirlo con alguna técnica de regularización. En este caso particular lo haré con Grid Search"
   ]
  },
  {
   "cell_type": "markdown",
   "id": "ac180f72-add4-42b0-ac9e-870698cff0cc",
   "metadata": {},
   "source": [
    "Igualmente me animé a hacer un intento de regularización con Lasso, que está a continuación"
   ]
  },
  {
   "cell_type": "code",
   "execution_count": 88,
   "id": "aeb680f5-b468-4a58-b0cb-eca9d4124993",
   "metadata": {},
   "outputs": [
    {
     "name": "stdout",
     "output_type": "stream",
     "text": [
      "Accuracy en datos de entrenamiento (regularización Lasso): 0.8203809523809524\n",
      "Accuracy en datos de prueba (regularización Lasso): 0.8174444444444444\n"
     ]
    }
   ],
   "source": [
    "from sklearn.linear_model import Lasso\n",
    "# Aplicar la regularización Lasso\n",
    "lasso = Lasso(alpha=0.1)  # Ajustar el valor de alpha según sea necesario\n",
    "lasso.fit(X_train_scaled, y_train)\n",
    "\n",
    "# Obtener los coeficientes del modelo después de la regularización Lasso\n",
    "lasso_coefs = lasso.coef_\n",
    "\n",
    "# Crear una instancia del SVM con regularización Lasso\n",
    "svm_lasso = SVC(C=10, kernel='rbf', gamma=0.5)\n",
    "svm_lasso.fit(X_train_scaled[:, lasso_coefs != 0], y_train)\n",
    "\n",
    "# Evaluar el rendimiento en los datos de entrenamiento (regularización Lasso)\n",
    "train_accuracy_lasso = svm_lasso.score(X_train_scaled[:, lasso_coefs != 0], y_train)\n",
    "print('Accuracy en datos de entrenamiento (regularización Lasso):', train_accuracy_lasso)\n",
    "\n",
    "# Evaluar el rendimiento en los datos de prueba (regularización Lasso)\n",
    "test_accuracy_lasso = svm_lasso.score(X_test_scaled[:, lasso_coefs != 0], y_test)\n",
    "print('Accuracy en datos de prueba (regularización Lasso):', test_accuracy_lasso)"
   ]
  },
  {
   "cell_type": "markdown",
   "id": "b6819a3c-0cfb-4aa6-b5a2-b90ebf6cea66",
   "metadata": {},
   "source": [
    "Y al parecer mejoró un poco más el accuracy, pero no estoy seguro si la forma de aplicarlo ha sido correcta, espero me puedan detallarlo en el feedback al corregirlo"
   ]
  },
  {
   "cell_type": "code",
   "execution_count": null,
   "id": "e1c78b20-ec23-4b01-8453-27713d62f8b2",
   "metadata": {},
   "outputs": [],
   "source": []
  }
 ],
 "metadata": {
  "kernelspec": {
   "display_name": "Python 3 (ipykernel)",
   "language": "python",
   "name": "python3"
  },
  "language_info": {
   "codemirror_mode": {
    "name": "ipython",
    "version": 3
   },
   "file_extension": ".py",
   "mimetype": "text/x-python",
   "name": "python",
   "nbconvert_exporter": "python",
   "pygments_lexer": "ipython3",
   "version": "3.9.12"
  }
 },
 "nbformat": 4,
 "nbformat_minor": 5
}
