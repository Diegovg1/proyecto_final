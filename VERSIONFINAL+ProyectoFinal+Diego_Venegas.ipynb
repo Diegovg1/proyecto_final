{
 "cells": [
  {
   "cell_type": "markdown",
   "id": "e6948a07-24da-4cfb-bcd8-6cae3740cc4e",
   "metadata": {},
   "source": [
    "## Desafio Coder - Data Storytelling\n",
    "#### Alumno: Diego Venegas Gonzalez"
   ]
  },
  {
   "cell_type": "code",
   "execution_count": 1,
   "id": "8de1443b-596d-4c45-af19-c2e6bae7342d",
   "metadata": {},
   "outputs": [],
   "source": [
    "import warnings\n",
    "warnings.filterwarnings('always')\n",
    "warnings.filterwarnings('ignore')\n",
    "\n",
    "import numpy as np\n",
    "import pandas as pd\n",
    "import matplotlib.pyplot as plt\n",
    "import seaborn as sns"
   ]
  },
  {
   "cell_type": "markdown",
   "id": "4d4b5fd0-e950-4b4d-afd2-3f3dfe7cf54d",
   "metadata": {
    "tags": []
   },
   "source": [
    "## Dataset - Riesgo de incumplimiento de pagos\n",
    "Este conjunto de datos contiene información sobre pagos predeterminados, factores demográficos, datos crediticios, historial de pagos y estados de cuenta de clientes de tarjetas de crédito en Taiwán desde abril de 2005 hasta septiembre de 2005. El objetivo principal es estimar la probabilidad de incumplimiento de pago de los clientes."
   ]
  },
  {
   "cell_type": "markdown",
   "id": "2bdb677b-9e12-43be-b320-985798b03bf6",
   "metadata": {},
   "source": [
    "#### Descripción de las variables:\n",
    "- ID: ID de cada cliente\n",
    "- LIMIT_BAL: monto del crédito otorgado en dólares NT (incluye crédito individual y familiar/suplementario)\n",
    "- SEX: Género (1=masculino, 2=femenino)\n",
    "- EDUCATION: (1=graduado, 2=universidad, 3=bachillerato, 4=otros, 5=desconocido, 6=desconocido)\n",
    "- MARRIAGE: Estado civil (1=casado, 2=soltero, 3=otros)\n",
    "- AGE: Edad en años\n",
    "- PAY_1: estado de pago en septiembre de 2005 (-1=pago debido, 1=retraso en el pago de un mes, 2=retraso en el pago de dos meses, ...8=retraso en el pago de ocho meses, 9=retraso en el pago de nueve meses o más)\n",
    "- PAY_2: Estado de pago en agosto de 2005 (escala igual a la anterior)\n",
    "- PAY_3: Estado de pago en julio de 2005 (escala igual a la anterior)\n",
    "- PAY_4: Estado de pago en junio de 2005 (escala igual a la anterior)\n",
    "- PAY_5: Estado de pago en mayo de 2005 (escala igual a la anterior)\n",
    "- PAY_6: Estado de pago en abril de 2005 (escala igual a la anterior)\n",
    "- BILL_AMT1: Importe del estado de cuenta en septiembre de 2005 (dólar NT)\n",
    "- BILL_AMT2: Importe del estado de cuenta en agosto de 2005 (dólar NT)\n",
    "- BILL_AMT3: Importe del estado de cuenta en julio de 2005 (dólar NT)\n",
    "- BILL_AMT4: Importe del estado de cuenta en junio de 2005 (dólar NT)\n",
    "- BILL_AMT5: Importe del estado de cuenta en mayo de 2005 (dólar NT)\n",
    "- BILL_AMT6: Importe del estado de cuenta en abril de 2005 (dólar NT)\n",
    "- PAY_AMT1: Importe del pago anterior en septiembre de 2005 (dólar NT)\n",
    "- PAY_AMT2: Importe del pago anterior en agosto de 2005 (dólar NT)\n",
    "- PAY_AMT3: Importe del pago anterior en julio de 2005 (dólar NT)\n",
    "- PAY_AMT4: Importe del pago anterior en junio de 2005 (dólar NT)\n",
    "- PAY_AMT5: Importe del pago anterior en mayo de 2005 (dólar NT)\n",
    "- PAY_AMT6: Importe del pago anterior en abril de 2005 (dólar NT)\n",
    "- DEFAULT: Pago predeterminado (1=sí, 0=no)"
   ]
  },
  {
   "cell_type": "markdown",
   "id": "4abfbc89-898b-4a1a-bf39-07b9b351d348",
   "metadata": {},
   "source": [
    "### Contexto Comercial"
   ]
  },
  {
   "cell_type": "markdown",
   "id": "2d86cf88-16dc-4ed3-b1b8-a18ed745c0a4",
   "metadata": {},
   "source": [
    "Uno de los principales ingresos de los bancos son los préstamos a los clientes. La ganancia de los bancos radica en los intereses que le cobran por el préstamo, el cual varía para cada cliente y está sujeto a diferentes factores. Uno de los factores más importantes es el riesgo, y este se calcula por las distintas variables que tiene el cliente, como por ejemplo su edad, sus ingresos mensuales, su historial crediticio, etc. Sin embargo, existen algunos clientes a los cuales les prestan dinero y luego terminan incumpliendo los pagos, lo cual termina perjudicando a los bancos. Esta práctica se ha vuelto algo frecuente en algunas personas, ya que saben que no hay cárcel por incumplimiento de pagos. Por lo tanto, el objetivo de este proyecto es poder identificar a los clientes que van a incumplir los pagos para así minimizar las pérdidas del banco y la utilidad sea mayor."
   ]
  },
  {
   "cell_type": "markdown",
   "id": "301638a5-29f2-408c-a6cd-2e5b6acbb0c3",
   "metadata": {},
   "source": [
    "#### Objetivo Principal:\n",
    "- Identificar a los clientes de un banco que tengan alto riesgo de incumplimiento de pago utilizando técnicas de data science y modelos de machine learning "
   ]
  },
  {
   "cell_type": "markdown",
   "id": "57c05ab7-d865-423f-9257-701c7d042f3b",
   "metadata": {},
   "source": [
    "#### Objetivos Secundarios:\n",
    "- Identificar los factores más influyentes en el riesgo de incumplimiento de pago\n",
    "- Desarrollar un sistema automatizado para calificar el riesgo de impago de los clientes.\n",
    "- Evaluar la precisión y eficacia del modelo\n",
    "- Implementar soluciones para reducir el riesgo de impago\n",
    "- Mejorar la toma de decisiones de la empresa en cuanto a la asignación de crédito a los clientes"
   ]
  },
  {
   "cell_type": "markdown",
   "id": "fe72fddf-b322-40ec-ad3d-09e02b8ca5da",
   "metadata": {},
   "source": [
    "#### Motivación y Audiencia:\n",
    "El público al cual va dirigido este proyecto es el siguiente: los directores, los gerentes del banco, las principales jefaturas, los empleados de la unidad de crédito y el equipo de data science.\n",
    "\n",
    "Lo que se espera tras la ejecución de este proyecto es:\n",
    "- Tener una mejor comprensión de los factores que contribuyen al riesgo de impago, lo que permitirá a la empresa tomar medidas más informadas para prevenirlo.\n",
    "- Un sistema automatizado de calificación de riesgo que mejore la eficiencia y la precisión en comparación de los métodos tradicionales\n",
    "- Una reducción en el número de impagos y una mejora en la tasa de recuperación de deudas\n",
    "- Una mejora en la toma de decisiones en cuanto a la asignación de crédito a los clientes, lo que aumentará la seguridad y la rentabilidad de la empresa\n",
    "- Una ventaja competitiva al ser capaces de ofrecer una mejor evaluación de riesgo a los clientes y potenciales clientes, lo que aumentará la satisfacción y lealtad de los clientes."
   ]
  },
  {
   "cell_type": "code",
   "execution_count": 2,
   "id": "2c3c2b05-6a83-4299-a0d5-837a79dd689d",
   "metadata": {},
   "outputs": [],
   "source": [
    "df = pd.read_csv(\"datacredit.csv\") "
   ]
  },
  {
   "cell_type": "code",
   "execution_count": 3,
   "id": "c05821dc-02b9-4550-aa60-3b08d7abb72f",
   "metadata": {},
   "outputs": [
    {
     "data": {
      "text/plain": [
       "(30000, 25)"
      ]
     },
     "execution_count": 3,
     "metadata": {},
     "output_type": "execute_result"
    }
   ],
   "source": [
    "df.shape"
   ]
  },
  {
   "cell_type": "code",
   "execution_count": 4,
   "id": "9980a963-7522-4026-96d2-2eda28aec12a",
   "metadata": {},
   "outputs": [
    {
     "data": {
      "text/html": [
       "<div>\n",
       "<style scoped>\n",
       "    .dataframe tbody tr th:only-of-type {\n",
       "        vertical-align: middle;\n",
       "    }\n",
       "\n",
       "    .dataframe tbody tr th {\n",
       "        vertical-align: top;\n",
       "    }\n",
       "\n",
       "    .dataframe thead th {\n",
       "        text-align: right;\n",
       "    }\n",
       "</style>\n",
       "<table border=\"1\" class=\"dataframe\">\n",
       "  <thead>\n",
       "    <tr style=\"text-align: right;\">\n",
       "      <th></th>\n",
       "      <th>ID</th>\n",
       "      <th>LIMIT_BAL</th>\n",
       "      <th>SEX</th>\n",
       "      <th>EDUCATION</th>\n",
       "      <th>MARRIAGE</th>\n",
       "      <th>AGE</th>\n",
       "      <th>PAY_1</th>\n",
       "      <th>PAY_2</th>\n",
       "      <th>PAY_3</th>\n",
       "      <th>PAY_4</th>\n",
       "      <th>...</th>\n",
       "      <th>BILL_AMT4</th>\n",
       "      <th>BILL_AMT5</th>\n",
       "      <th>BILL_AMT6</th>\n",
       "      <th>PAY_AMT1</th>\n",
       "      <th>PAY_AMT2</th>\n",
       "      <th>PAY_AMT3</th>\n",
       "      <th>PAY_AMT4</th>\n",
       "      <th>PAY_AMT5</th>\n",
       "      <th>PAY_AMT6</th>\n",
       "      <th>DEFAULT</th>\n",
       "    </tr>\n",
       "  </thead>\n",
       "  <tbody>\n",
       "    <tr>\n",
       "      <th>0</th>\n",
       "      <td>1</td>\n",
       "      <td>20000</td>\n",
       "      <td>2</td>\n",
       "      <td>2</td>\n",
       "      <td>1</td>\n",
       "      <td>24</td>\n",
       "      <td>2</td>\n",
       "      <td>2</td>\n",
       "      <td>-1</td>\n",
       "      <td>-1</td>\n",
       "      <td>...</td>\n",
       "      <td>0</td>\n",
       "      <td>0</td>\n",
       "      <td>0</td>\n",
       "      <td>0</td>\n",
       "      <td>689</td>\n",
       "      <td>0</td>\n",
       "      <td>0</td>\n",
       "      <td>0</td>\n",
       "      <td>0</td>\n",
       "      <td>1</td>\n",
       "    </tr>\n",
       "    <tr>\n",
       "      <th>1</th>\n",
       "      <td>2</td>\n",
       "      <td>120000</td>\n",
       "      <td>2</td>\n",
       "      <td>2</td>\n",
       "      <td>2</td>\n",
       "      <td>26</td>\n",
       "      <td>-1</td>\n",
       "      <td>2</td>\n",
       "      <td>0</td>\n",
       "      <td>0</td>\n",
       "      <td>...</td>\n",
       "      <td>3272</td>\n",
       "      <td>3455</td>\n",
       "      <td>3261</td>\n",
       "      <td>0</td>\n",
       "      <td>1000</td>\n",
       "      <td>1000</td>\n",
       "      <td>1000</td>\n",
       "      <td>0</td>\n",
       "      <td>2000</td>\n",
       "      <td>1</td>\n",
       "    </tr>\n",
       "    <tr>\n",
       "      <th>2</th>\n",
       "      <td>3</td>\n",
       "      <td>90000</td>\n",
       "      <td>2</td>\n",
       "      <td>2</td>\n",
       "      <td>2</td>\n",
       "      <td>34</td>\n",
       "      <td>0</td>\n",
       "      <td>0</td>\n",
       "      <td>0</td>\n",
       "      <td>0</td>\n",
       "      <td>...</td>\n",
       "      <td>14331</td>\n",
       "      <td>14948</td>\n",
       "      <td>15549</td>\n",
       "      <td>1518</td>\n",
       "      <td>1500</td>\n",
       "      <td>1000</td>\n",
       "      <td>1000</td>\n",
       "      <td>1000</td>\n",
       "      <td>5000</td>\n",
       "      <td>0</td>\n",
       "    </tr>\n",
       "    <tr>\n",
       "      <th>3</th>\n",
       "      <td>4</td>\n",
       "      <td>50000</td>\n",
       "      <td>2</td>\n",
       "      <td>2</td>\n",
       "      <td>1</td>\n",
       "      <td>37</td>\n",
       "      <td>0</td>\n",
       "      <td>0</td>\n",
       "      <td>0</td>\n",
       "      <td>0</td>\n",
       "      <td>...</td>\n",
       "      <td>28314</td>\n",
       "      <td>28959</td>\n",
       "      <td>29547</td>\n",
       "      <td>2000</td>\n",
       "      <td>2019</td>\n",
       "      <td>1200</td>\n",
       "      <td>1100</td>\n",
       "      <td>1069</td>\n",
       "      <td>1000</td>\n",
       "      <td>0</td>\n",
       "    </tr>\n",
       "    <tr>\n",
       "      <th>4</th>\n",
       "      <td>5</td>\n",
       "      <td>50000</td>\n",
       "      <td>1</td>\n",
       "      <td>2</td>\n",
       "      <td>1</td>\n",
       "      <td>57</td>\n",
       "      <td>-1</td>\n",
       "      <td>0</td>\n",
       "      <td>-1</td>\n",
       "      <td>0</td>\n",
       "      <td>...</td>\n",
       "      <td>20940</td>\n",
       "      <td>19146</td>\n",
       "      <td>19131</td>\n",
       "      <td>2000</td>\n",
       "      <td>36681</td>\n",
       "      <td>10000</td>\n",
       "      <td>9000</td>\n",
       "      <td>689</td>\n",
       "      <td>679</td>\n",
       "      <td>0</td>\n",
       "    </tr>\n",
       "  </tbody>\n",
       "</table>\n",
       "<p>5 rows × 25 columns</p>\n",
       "</div>"
      ],
      "text/plain": [
       "   ID  LIMIT_BAL  SEX  EDUCATION  MARRIAGE  AGE  PAY_1  PAY_2  PAY_3  PAY_4  \\\n",
       "0   1      20000    2          2         1   24      2      2     -1     -1   \n",
       "1   2     120000    2          2         2   26     -1      2      0      0   \n",
       "2   3      90000    2          2         2   34      0      0      0      0   \n",
       "3   4      50000    2          2         1   37      0      0      0      0   \n",
       "4   5      50000    1          2         1   57     -1      0     -1      0   \n",
       "\n",
       "   ...  BILL_AMT4  BILL_AMT5  BILL_AMT6  PAY_AMT1  PAY_AMT2  PAY_AMT3  \\\n",
       "0  ...          0          0          0         0       689         0   \n",
       "1  ...       3272       3455       3261         0      1000      1000   \n",
       "2  ...      14331      14948      15549      1518      1500      1000   \n",
       "3  ...      28314      28959      29547      2000      2019      1200   \n",
       "4  ...      20940      19146      19131      2000     36681     10000   \n",
       "\n",
       "   PAY_AMT4  PAY_AMT5  PAY_AMT6  DEFAULT  \n",
       "0         0         0         0        1  \n",
       "1      1000         0      2000        1  \n",
       "2      1000      1000      5000        0  \n",
       "3      1100      1069      1000        0  \n",
       "4      9000       689       679        0  \n",
       "\n",
       "[5 rows x 25 columns]"
      ]
     },
     "execution_count": 4,
     "metadata": {},
     "output_type": "execute_result"
    }
   ],
   "source": [
    "df.head()"
   ]
  },
  {
   "cell_type": "code",
   "execution_count": 5,
   "id": "42d3f1c1-4c00-43e9-a148-ac094decb6ae",
   "metadata": {},
   "outputs": [],
   "source": [
    "df.drop(['ID'],axis=1,inplace=True)"
   ]
  },
  {
   "cell_type": "code",
   "execution_count": 6,
   "id": "b68bc1ea-463e-4b17-a05b-592845a723ac",
   "metadata": {},
   "outputs": [
    {
     "name": "stdout",
     "output_type": "stream",
     "text": [
      "<class 'pandas.core.frame.DataFrame'>\n",
      "RangeIndex: 30000 entries, 0 to 29999\n",
      "Data columns (total 24 columns):\n",
      " #   Column     Non-Null Count  Dtype\n",
      "---  ------     --------------  -----\n",
      " 0   LIMIT_BAL  30000 non-null  int64\n",
      " 1   SEX        30000 non-null  int64\n",
      " 2   EDUCATION  30000 non-null  int64\n",
      " 3   MARRIAGE   30000 non-null  int64\n",
      " 4   AGE        30000 non-null  int64\n",
      " 5   PAY_1      30000 non-null  int64\n",
      " 6   PAY_2      30000 non-null  int64\n",
      " 7   PAY_3      30000 non-null  int64\n",
      " 8   PAY_4      30000 non-null  int64\n",
      " 9   PAY_5      30000 non-null  int64\n",
      " 10  PAY_6      30000 non-null  int64\n",
      " 11  BILL_AMT1  30000 non-null  int64\n",
      " 12  BILL_AMT2  30000 non-null  int64\n",
      " 13  BILL_AMT3  30000 non-null  int64\n",
      " 14  BILL_AMT4  30000 non-null  int64\n",
      " 15  BILL_AMT5  30000 non-null  int64\n",
      " 16  BILL_AMT6  30000 non-null  int64\n",
      " 17  PAY_AMT1   30000 non-null  int64\n",
      " 18  PAY_AMT2   30000 non-null  int64\n",
      " 19  PAY_AMT3   30000 non-null  int64\n",
      " 20  PAY_AMT4   30000 non-null  int64\n",
      " 21  PAY_AMT5   30000 non-null  int64\n",
      " 22  PAY_AMT6   30000 non-null  int64\n",
      " 23  DEFAULT    30000 non-null  int64\n",
      "dtypes: int64(24)\n",
      "memory usage: 5.5 MB\n"
     ]
    }
   ],
   "source": [
    "df.info()"
   ]
  },
  {
   "cell_type": "code",
   "execution_count": 7,
   "id": "44279c6b-8cbd-4631-aef0-22c4d0c640eb",
   "metadata": {},
   "outputs": [
    {
     "data": {
      "text/html": [
       "<div>\n",
       "<style scoped>\n",
       "    .dataframe tbody tr th:only-of-type {\n",
       "        vertical-align: middle;\n",
       "    }\n",
       "\n",
       "    .dataframe tbody tr th {\n",
       "        vertical-align: top;\n",
       "    }\n",
       "\n",
       "    .dataframe thead th {\n",
       "        text-align: right;\n",
       "    }\n",
       "</style>\n",
       "<table border=\"1\" class=\"dataframe\">\n",
       "  <thead>\n",
       "    <tr style=\"text-align: right;\">\n",
       "      <th></th>\n",
       "      <th>LIMIT_BAL</th>\n",
       "      <th>SEX</th>\n",
       "      <th>EDUCATION</th>\n",
       "      <th>MARRIAGE</th>\n",
       "      <th>AGE</th>\n",
       "      <th>PAY_1</th>\n",
       "      <th>PAY_2</th>\n",
       "      <th>PAY_3</th>\n",
       "      <th>PAY_4</th>\n",
       "      <th>PAY_5</th>\n",
       "      <th>...</th>\n",
       "      <th>BILL_AMT4</th>\n",
       "      <th>BILL_AMT5</th>\n",
       "      <th>BILL_AMT6</th>\n",
       "      <th>PAY_AMT1</th>\n",
       "      <th>PAY_AMT2</th>\n",
       "      <th>PAY_AMT3</th>\n",
       "      <th>PAY_AMT4</th>\n",
       "      <th>PAY_AMT5</th>\n",
       "      <th>PAY_AMT6</th>\n",
       "      <th>DEFAULT</th>\n",
       "    </tr>\n",
       "  </thead>\n",
       "  <tbody>\n",
       "    <tr>\n",
       "      <th>count</th>\n",
       "      <td>30000.000000</td>\n",
       "      <td>30000.000000</td>\n",
       "      <td>30000.000000</td>\n",
       "      <td>30000.000000</td>\n",
       "      <td>30000.000000</td>\n",
       "      <td>30000.000000</td>\n",
       "      <td>30000.000000</td>\n",
       "      <td>30000.000000</td>\n",
       "      <td>30000.000000</td>\n",
       "      <td>30000.000000</td>\n",
       "      <td>...</td>\n",
       "      <td>30000.000000</td>\n",
       "      <td>30000.000000</td>\n",
       "      <td>30000.000000</td>\n",
       "      <td>30000.000000</td>\n",
       "      <td>3.000000e+04</td>\n",
       "      <td>30000.00000</td>\n",
       "      <td>30000.000000</td>\n",
       "      <td>30000.000000</td>\n",
       "      <td>30000.000000</td>\n",
       "      <td>30000.000000</td>\n",
       "    </tr>\n",
       "    <tr>\n",
       "      <th>mean</th>\n",
       "      <td>167484.322667</td>\n",
       "      <td>1.603733</td>\n",
       "      <td>1.853133</td>\n",
       "      <td>1.551867</td>\n",
       "      <td>35.485500</td>\n",
       "      <td>-0.016700</td>\n",
       "      <td>-0.133767</td>\n",
       "      <td>-0.166200</td>\n",
       "      <td>-0.220667</td>\n",
       "      <td>-0.266200</td>\n",
       "      <td>...</td>\n",
       "      <td>43262.948967</td>\n",
       "      <td>40311.400967</td>\n",
       "      <td>38871.760400</td>\n",
       "      <td>5663.580500</td>\n",
       "      <td>5.921163e+03</td>\n",
       "      <td>5225.68150</td>\n",
       "      <td>4826.076867</td>\n",
       "      <td>4799.387633</td>\n",
       "      <td>5215.502567</td>\n",
       "      <td>0.221200</td>\n",
       "    </tr>\n",
       "    <tr>\n",
       "      <th>std</th>\n",
       "      <td>129747.661567</td>\n",
       "      <td>0.489129</td>\n",
       "      <td>0.790349</td>\n",
       "      <td>0.521970</td>\n",
       "      <td>9.217904</td>\n",
       "      <td>1.123802</td>\n",
       "      <td>1.197186</td>\n",
       "      <td>1.196868</td>\n",
       "      <td>1.169139</td>\n",
       "      <td>1.133187</td>\n",
       "      <td>...</td>\n",
       "      <td>64332.856134</td>\n",
       "      <td>60797.155770</td>\n",
       "      <td>59554.107537</td>\n",
       "      <td>16563.280354</td>\n",
       "      <td>2.304087e+04</td>\n",
       "      <td>17606.96147</td>\n",
       "      <td>15666.159744</td>\n",
       "      <td>15278.305679</td>\n",
       "      <td>17777.465775</td>\n",
       "      <td>0.415062</td>\n",
       "    </tr>\n",
       "    <tr>\n",
       "      <th>min</th>\n",
       "      <td>10000.000000</td>\n",
       "      <td>1.000000</td>\n",
       "      <td>0.000000</td>\n",
       "      <td>0.000000</td>\n",
       "      <td>21.000000</td>\n",
       "      <td>-2.000000</td>\n",
       "      <td>-2.000000</td>\n",
       "      <td>-2.000000</td>\n",
       "      <td>-2.000000</td>\n",
       "      <td>-2.000000</td>\n",
       "      <td>...</td>\n",
       "      <td>-170000.000000</td>\n",
       "      <td>-81334.000000</td>\n",
       "      <td>-339603.000000</td>\n",
       "      <td>0.000000</td>\n",
       "      <td>0.000000e+00</td>\n",
       "      <td>0.00000</td>\n",
       "      <td>0.000000</td>\n",
       "      <td>0.000000</td>\n",
       "      <td>0.000000</td>\n",
       "      <td>0.000000</td>\n",
       "    </tr>\n",
       "    <tr>\n",
       "      <th>25%</th>\n",
       "      <td>50000.000000</td>\n",
       "      <td>1.000000</td>\n",
       "      <td>1.000000</td>\n",
       "      <td>1.000000</td>\n",
       "      <td>28.000000</td>\n",
       "      <td>-1.000000</td>\n",
       "      <td>-1.000000</td>\n",
       "      <td>-1.000000</td>\n",
       "      <td>-1.000000</td>\n",
       "      <td>-1.000000</td>\n",
       "      <td>...</td>\n",
       "      <td>2326.750000</td>\n",
       "      <td>1763.000000</td>\n",
       "      <td>1256.000000</td>\n",
       "      <td>1000.000000</td>\n",
       "      <td>8.330000e+02</td>\n",
       "      <td>390.00000</td>\n",
       "      <td>296.000000</td>\n",
       "      <td>252.500000</td>\n",
       "      <td>117.750000</td>\n",
       "      <td>0.000000</td>\n",
       "    </tr>\n",
       "    <tr>\n",
       "      <th>50%</th>\n",
       "      <td>140000.000000</td>\n",
       "      <td>2.000000</td>\n",
       "      <td>2.000000</td>\n",
       "      <td>2.000000</td>\n",
       "      <td>34.000000</td>\n",
       "      <td>0.000000</td>\n",
       "      <td>0.000000</td>\n",
       "      <td>0.000000</td>\n",
       "      <td>0.000000</td>\n",
       "      <td>0.000000</td>\n",
       "      <td>...</td>\n",
       "      <td>19052.000000</td>\n",
       "      <td>18104.500000</td>\n",
       "      <td>17071.000000</td>\n",
       "      <td>2100.000000</td>\n",
       "      <td>2.009000e+03</td>\n",
       "      <td>1800.00000</td>\n",
       "      <td>1500.000000</td>\n",
       "      <td>1500.000000</td>\n",
       "      <td>1500.000000</td>\n",
       "      <td>0.000000</td>\n",
       "    </tr>\n",
       "    <tr>\n",
       "      <th>75%</th>\n",
       "      <td>240000.000000</td>\n",
       "      <td>2.000000</td>\n",
       "      <td>2.000000</td>\n",
       "      <td>2.000000</td>\n",
       "      <td>41.000000</td>\n",
       "      <td>0.000000</td>\n",
       "      <td>0.000000</td>\n",
       "      <td>0.000000</td>\n",
       "      <td>0.000000</td>\n",
       "      <td>0.000000</td>\n",
       "      <td>...</td>\n",
       "      <td>54506.000000</td>\n",
       "      <td>50190.500000</td>\n",
       "      <td>49198.250000</td>\n",
       "      <td>5006.000000</td>\n",
       "      <td>5.000000e+03</td>\n",
       "      <td>4505.00000</td>\n",
       "      <td>4013.250000</td>\n",
       "      <td>4031.500000</td>\n",
       "      <td>4000.000000</td>\n",
       "      <td>0.000000</td>\n",
       "    </tr>\n",
       "    <tr>\n",
       "      <th>max</th>\n",
       "      <td>1000000.000000</td>\n",
       "      <td>2.000000</td>\n",
       "      <td>6.000000</td>\n",
       "      <td>3.000000</td>\n",
       "      <td>79.000000</td>\n",
       "      <td>8.000000</td>\n",
       "      <td>8.000000</td>\n",
       "      <td>8.000000</td>\n",
       "      <td>8.000000</td>\n",
       "      <td>8.000000</td>\n",
       "      <td>...</td>\n",
       "      <td>891586.000000</td>\n",
       "      <td>927171.000000</td>\n",
       "      <td>961664.000000</td>\n",
       "      <td>873552.000000</td>\n",
       "      <td>1.684259e+06</td>\n",
       "      <td>896040.00000</td>\n",
       "      <td>621000.000000</td>\n",
       "      <td>426529.000000</td>\n",
       "      <td>528666.000000</td>\n",
       "      <td>1.000000</td>\n",
       "    </tr>\n",
       "  </tbody>\n",
       "</table>\n",
       "<p>8 rows × 24 columns</p>\n",
       "</div>"
      ],
      "text/plain": [
       "            LIMIT_BAL           SEX     EDUCATION      MARRIAGE           AGE  \\\n",
       "count    30000.000000  30000.000000  30000.000000  30000.000000  30000.000000   \n",
       "mean    167484.322667      1.603733      1.853133      1.551867     35.485500   \n",
       "std     129747.661567      0.489129      0.790349      0.521970      9.217904   \n",
       "min      10000.000000      1.000000      0.000000      0.000000     21.000000   \n",
       "25%      50000.000000      1.000000      1.000000      1.000000     28.000000   \n",
       "50%     140000.000000      2.000000      2.000000      2.000000     34.000000   \n",
       "75%     240000.000000      2.000000      2.000000      2.000000     41.000000   \n",
       "max    1000000.000000      2.000000      6.000000      3.000000     79.000000   \n",
       "\n",
       "              PAY_1         PAY_2         PAY_3         PAY_4         PAY_5  \\\n",
       "count  30000.000000  30000.000000  30000.000000  30000.000000  30000.000000   \n",
       "mean      -0.016700     -0.133767     -0.166200     -0.220667     -0.266200   \n",
       "std        1.123802      1.197186      1.196868      1.169139      1.133187   \n",
       "min       -2.000000     -2.000000     -2.000000     -2.000000     -2.000000   \n",
       "25%       -1.000000     -1.000000     -1.000000     -1.000000     -1.000000   \n",
       "50%        0.000000      0.000000      0.000000      0.000000      0.000000   \n",
       "75%        0.000000      0.000000      0.000000      0.000000      0.000000   \n",
       "max        8.000000      8.000000      8.000000      8.000000      8.000000   \n",
       "\n",
       "       ...      BILL_AMT4      BILL_AMT5      BILL_AMT6       PAY_AMT1  \\\n",
       "count  ...   30000.000000   30000.000000   30000.000000   30000.000000   \n",
       "mean   ...   43262.948967   40311.400967   38871.760400    5663.580500   \n",
       "std    ...   64332.856134   60797.155770   59554.107537   16563.280354   \n",
       "min    ... -170000.000000  -81334.000000 -339603.000000       0.000000   \n",
       "25%    ...    2326.750000    1763.000000    1256.000000    1000.000000   \n",
       "50%    ...   19052.000000   18104.500000   17071.000000    2100.000000   \n",
       "75%    ...   54506.000000   50190.500000   49198.250000    5006.000000   \n",
       "max    ...  891586.000000  927171.000000  961664.000000  873552.000000   \n",
       "\n",
       "           PAY_AMT2      PAY_AMT3       PAY_AMT4       PAY_AMT5  \\\n",
       "count  3.000000e+04   30000.00000   30000.000000   30000.000000   \n",
       "mean   5.921163e+03    5225.68150    4826.076867    4799.387633   \n",
       "std    2.304087e+04   17606.96147   15666.159744   15278.305679   \n",
       "min    0.000000e+00       0.00000       0.000000       0.000000   \n",
       "25%    8.330000e+02     390.00000     296.000000     252.500000   \n",
       "50%    2.009000e+03    1800.00000    1500.000000    1500.000000   \n",
       "75%    5.000000e+03    4505.00000    4013.250000    4031.500000   \n",
       "max    1.684259e+06  896040.00000  621000.000000  426529.000000   \n",
       "\n",
       "            PAY_AMT6       DEFAULT  \n",
       "count   30000.000000  30000.000000  \n",
       "mean     5215.502567      0.221200  \n",
       "std     17777.465775      0.415062  \n",
       "min         0.000000      0.000000  \n",
       "25%       117.750000      0.000000  \n",
       "50%      1500.000000      0.000000  \n",
       "75%      4000.000000      0.000000  \n",
       "max    528666.000000      1.000000  \n",
       "\n",
       "[8 rows x 24 columns]"
      ]
     },
     "execution_count": 7,
     "metadata": {},
     "output_type": "execute_result"
    }
   ],
   "source": [
    "df.describe()"
   ]
  },
  {
   "cell_type": "markdown",
   "id": "bbea4c13-261b-41d8-b76c-7c2e6eed4b00",
   "metadata": {
    "id": "z-xwHgOuS5M8"
   },
   "source": [
    "## Análisis Exploratorio de Datos (EDA)"
   ]
  },
  {
   "cell_type": "code",
   "execution_count": 8,
   "id": "f8c183d9-0891-4bf4-ac2a-ef71913ae8f3",
   "metadata": {
    "id": "ft_rOdkxS5NO"
   },
   "outputs": [
    {
     "data": {
      "text/plain": [
       "LIMIT_BAL    0\n",
       "SEX          0\n",
       "EDUCATION    0\n",
       "MARRIAGE     0\n",
       "AGE          0\n",
       "PAY_1        0\n",
       "PAY_2        0\n",
       "PAY_3        0\n",
       "PAY_4        0\n",
       "PAY_5        0\n",
       "PAY_6        0\n",
       "BILL_AMT1    0\n",
       "BILL_AMT2    0\n",
       "BILL_AMT3    0\n",
       "BILL_AMT4    0\n",
       "BILL_AMT5    0\n",
       "BILL_AMT6    0\n",
       "PAY_AMT1     0\n",
       "PAY_AMT2     0\n",
       "PAY_AMT3     0\n",
       "PAY_AMT4     0\n",
       "PAY_AMT5     0\n",
       "PAY_AMT6     0\n",
       "DEFAULT      0\n",
       "dtype: int64"
      ]
     },
     "execution_count": 8,
     "metadata": {},
     "output_type": "execute_result"
    }
   ],
   "source": [
    "# Revisamos los valores nulos o missings!\n",
    "df.isnull().sum()"
   ]
  },
  {
   "cell_type": "markdown",
   "id": "b1877a03-cb44-475c-83eb-d53e0de719e7",
   "metadata": {
    "id": "QQ4an-XMc2yg"
   },
   "source": [
    "#### Análisis Univariado"
   ]
  },
  {
   "cell_type": "code",
   "execution_count": 9,
   "id": "ac9fc2fe-d94c-442e-8b47-3a3932ee87bf",
   "metadata": {},
   "outputs": [
    {
     "data": {
      "image/png": "[encoded data removed]",
      "text/plain": [
       "<Figure size 432x288 with 1 Axes>"
      ]
     },
     "metadata": {
      "needs_background": "light"
     },
     "output_type": "display_data"
    }
   ],
   "source": [
    "sns.countplot(data=df,x='DEFAULT')\n",
    "ax=sns.countplot(data=df,x='DEFAULT')"
   ]
  },
  {
   "cell_type": "code",
   "execution_count": 10,
   "id": "7fa59df9-5db0-40ff-af70-69c1271a3b35",
   "metadata": {
    "id": "XWCHbH4bQMSQ"
   },
   "outputs": [
    {
     "data": {
      "text/plain": [
       "0    0.7788\n",
       "1    0.2212\n",
       "Name: DEFAULT, dtype: float64"
      ]
     },
     "execution_count": 10,
     "metadata": {},
     "output_type": "execute_result"
    }
   ],
   "source": [
    "## Calculando la proporción del Target\n",
    "df.DEFAULT.value_counts(normalize=True)"
   ]
  },
  {
   "cell_type": "code",
   "execution_count": 11,
   "id": "f041daa4-9041-45ac-904f-47d56a7af1ca",
   "metadata": {
    "id": "d3suGh0zQMSQ"
   },
   "outputs": [
    {
     "data": {
      "image/png": "[encoded data removed]",
      "text/plain": [
       "<Figure size 432x288 with 1 Axes>"
      ]
     },
     "metadata": {
      "needs_background": "light"
     },
     "output_type": "display_data"
    }
   ],
   "source": [
    "sns.countplot(data=df,x='SEX')\n",
    "ax=sns.countplot(data=df,x='SEX')"
   ]
  },
  {
   "cell_type": "code",
   "execution_count": 12,
   "id": "e254c81b-b59a-4174-9092-9eb6c8e82756",
   "metadata": {
    "id": "HiFYQQ7VQMSQ"
   },
   "outputs": [
    {
     "data": {
      "text/html": [
       "<div>\n",
       "<style scoped>\n",
       "    .dataframe tbody tr th:only-of-type {\n",
       "        vertical-align: middle;\n",
       "    }\n",
       "\n",
       "    .dataframe tbody tr th {\n",
       "        vertical-align: top;\n",
       "    }\n",
       "\n",
       "    .dataframe thead th {\n",
       "        text-align: right;\n",
       "    }\n",
       "</style>\n",
       "<table border=\"1\" class=\"dataframe\">\n",
       "  <thead>\n",
       "    <tr style=\"text-align: right;\">\n",
       "      <th>DEFAULT</th>\n",
       "      <th>0</th>\n",
       "      <th>1</th>\n",
       "    </tr>\n",
       "    <tr>\n",
       "      <th>SEX</th>\n",
       "      <th></th>\n",
       "      <th></th>\n",
       "    </tr>\n",
       "  </thead>\n",
       "  <tbody>\n",
       "    <tr>\n",
       "      <th>1</th>\n",
       "      <td>0.758328</td>\n",
       "      <td>0.241672</td>\n",
       "    </tr>\n",
       "    <tr>\n",
       "      <th>2</th>\n",
       "      <td>0.792237</td>\n",
       "      <td>0.207763</td>\n",
       "    </tr>\n",
       "  </tbody>\n",
       "</table>\n",
       "</div>"
      ],
      "text/plain": [
       "DEFAULT         0         1\n",
       "SEX                        \n",
       "1        0.758328  0.241672\n",
       "2        0.792237  0.207763"
      ]
     },
     "execution_count": 12,
     "metadata": {},
     "output_type": "execute_result"
    }
   ],
   "source": [
    "df.groupby('SEX').DEFAULT.value_counts(normalize=True).unstack(fill_value=0)"
   ]
  },
  {
   "cell_type": "code",
   "execution_count": 13,
   "id": "51769ff3-370e-474f-bbc9-bcd3a2011757",
   "metadata": {},
   "outputs": [
    {
     "data": {
      "image/png": "[encoded data removed]",
      "text/plain": [
       "<Figure size 432x288 with 1 Axes>"
      ]
     },
     "metadata": {
      "needs_background": "light"
     },
     "output_type": "display_data"
    },
    {
     "data": {
      "image/png": "[encoded data removed]",
      "text/plain": [
       "<Figure size 483.25x288 with 1 Axes>"
      ]
     },
     "metadata": {
      "needs_background": "light"
     },
     "output_type": "display_data"
    }
   ],
   "source": [
    "sns.countplot(x=\"SEX\", hue=\"DEFAULT\", data=df)\n",
    "ax = plt.gca()\n",
    "for p in ax.patches:\n",
    "    height = p.get_height()\n",
    "    ax.annotate(f\"{height:.0f}\", (p.get_x() + p.get_width() / 2, height),\n",
    "                ha='center', va='bottom', fontsize=12, color='black')\n",
    "    \n",
    "porcentaje_genero_pagado = df.groupby([\"SEX\", \"DEFAULT\"]).size().reset_index(name='total')\n",
    "porcentaje_genero_total = df.groupby([\"SEX\"]).size().reset_index(name='total')\n",
    "porcentaje_genero = porcentaje_genero_pagado.merge(porcentaje_genero_total, on=\"SEX\")\n",
    "porcentaje_genero[\"porcentaje\"] = porcentaje_genero[\"total_x\"] / porcentaje_genero[\"total_y\"] * 100\n",
    "\n",
    "g = sns.catplot(x=\"SEX\", y=\"porcentaje\", hue=\"DEFAULT\", data=porcentaje_genero, kind=\"bar\", height=4, aspect=1.5)\n",
    "\n",
    "for ax in g.axes.flat:\n",
    "    for p in ax.patches:\n",
    "        label = format(p.get_height(), '.2f')\n",
    "        ax.annotate(label, (p.get_x() + p.get_width() / 2, p.get_height()),\n",
    "                    ha='center', va='bottom', fontsize=12, color='black')\n",
    "\n",
    "plt.show()"
   ]
  },
  {
   "cell_type": "code",
   "execution_count": 14,
   "id": "c9913e48-a88a-4516-bdcc-9a19aa95685d",
   "metadata": {},
   "outputs": [
    {
     "data": {
      "image/png": "[encoded data removed]",
      "text/plain": [
       "<Figure size 432x288 with 1 Axes>"
      ]
     },
     "metadata": {
      "needs_background": "light"
     },
     "output_type": "display_data"
    }
   ],
   "source": [
    "ax = sns.countplot(x=\"EDUCATION\", hue=\"DEFAULT\", data=df)\n",
    "for p in ax.patches:\n",
    "    height = p.get_height()\n",
    "    width = p.get_width()\n",
    "    x, y = p.get_xy()\n",
    "    ax.annotate(f'{height}', (x + width / 2, y + height*1.02), ha='center')\n",
    "plt.show()"
   ]
  },
  {
   "cell_type": "code",
   "execution_count": 15,
   "id": "edb99e03-fe03-468c-a84b-1d4396c0dc79",
   "metadata": {
    "id": "_aQucUgoQMSR"
   },
   "outputs": [
    {
     "data": {
      "image/png": "[encoded data removed]",
      "text/plain": [
       "<Figure size 432x288 with 1 Axes>"
      ]
     },
     "metadata": {
      "needs_background": "light"
     },
     "output_type": "display_data"
    }
   ],
   "source": [
    "ax=sns.countplot(data=df,x='EDUCATION',hue=\"DEFAULT\")"
   ]
  },
  {
   "cell_type": "code",
   "execution_count": 16,
   "id": "0d0f9c36-c673-4bb2-9908-889bff563f3e",
   "metadata": {},
   "outputs": [
    {
     "data": {
      "text/plain": [
       "<AxesSubplot:xlabel='DEFAULT', ylabel='EDUCATION'>"
      ]
     },
     "execution_count": 16,
     "metadata": {},
     "output_type": "execute_result"
    },
    {
     "data": {
      "image/png": "[encoded data removed]",
      "text/plain": [
       "<Figure size 432x288 with 1 Axes>"
      ]
     },
     "metadata": {
      "needs_background": "light"
     },
     "output_type": "display_data"
    }
   ],
   "source": [
    "tabla_educacion = pd.crosstab(index=df[\"EDUCATION\"], columns=df[\"DEFAULT\"])\n",
    "tabla_porcentajes = tabla_educacion.apply(lambda r: r/r.sum()*100, axis=1)\n",
    "sns.heatmap(tabla_porcentajes, annot=True, cmap=\"YlGnBu\", fmt=\".1f\", cbar=False)"
   ]
  },
  {
   "cell_type": "code",
   "execution_count": 17,
   "id": "b6745747-e1c3-4095-b153-f1a3b88303f3",
   "metadata": {},
   "outputs": [
    {
     "data": {
      "image/png": "[encoded data removed]",
      "text/plain": [
       "<Figure size 432x288 with 1 Axes>"
      ]
     },
     "metadata": {
      "needs_background": "light"
     },
     "output_type": "display_data"
    }
   ],
   "source": [
    "sns.countplot(data=df,x='EDUCATION')\n",
    "ax=sns.countplot(data=df,x='EDUCATION')"
   ]
  },
  {
   "cell_type": "code",
   "execution_count": 18,
   "id": "77d356b9-1a26-476d-a1c2-a2783d5691ac",
   "metadata": {
    "id": "FmZgpeh0QMSR"
   },
   "outputs": [
    {
     "data": {
      "text/html": [
       "<div>\n",
       "<style scoped>\n",
       "    .dataframe tbody tr th:only-of-type {\n",
       "        vertical-align: middle;\n",
       "    }\n",
       "\n",
       "    .dataframe tbody tr th {\n",
       "        vertical-align: top;\n",
       "    }\n",
       "\n",
       "    .dataframe thead th {\n",
       "        text-align: right;\n",
       "    }\n",
       "</style>\n",
       "<table border=\"1\" class=\"dataframe\">\n",
       "  <thead>\n",
       "    <tr style=\"text-align: right;\">\n",
       "      <th>DEFAULT</th>\n",
       "      <th>0</th>\n",
       "      <th>1</th>\n",
       "    </tr>\n",
       "    <tr>\n",
       "      <th>EDUCATION</th>\n",
       "      <th></th>\n",
       "      <th></th>\n",
       "    </tr>\n",
       "  </thead>\n",
       "  <tbody>\n",
       "    <tr>\n",
       "      <th>0</th>\n",
       "      <td>1.000000</td>\n",
       "      <td>0.000000</td>\n",
       "    </tr>\n",
       "    <tr>\n",
       "      <th>1</th>\n",
       "      <td>0.807652</td>\n",
       "      <td>0.192348</td>\n",
       "    </tr>\n",
       "    <tr>\n",
       "      <th>2</th>\n",
       "      <td>0.762651</td>\n",
       "      <td>0.237349</td>\n",
       "    </tr>\n",
       "    <tr>\n",
       "      <th>3</th>\n",
       "      <td>0.748424</td>\n",
       "      <td>0.251576</td>\n",
       "    </tr>\n",
       "    <tr>\n",
       "      <th>4</th>\n",
       "      <td>0.943089</td>\n",
       "      <td>0.056911</td>\n",
       "    </tr>\n",
       "    <tr>\n",
       "      <th>5</th>\n",
       "      <td>0.935714</td>\n",
       "      <td>0.064286</td>\n",
       "    </tr>\n",
       "    <tr>\n",
       "      <th>6</th>\n",
       "      <td>0.843137</td>\n",
       "      <td>0.156863</td>\n",
       "    </tr>\n",
       "  </tbody>\n",
       "</table>\n",
       "</div>"
      ],
      "text/plain": [
       "DEFAULT           0         1\n",
       "EDUCATION                    \n",
       "0          1.000000  0.000000\n",
       "1          0.807652  0.192348\n",
       "2          0.762651  0.237349\n",
       "3          0.748424  0.251576\n",
       "4          0.943089  0.056911\n",
       "5          0.935714  0.064286\n",
       "6          0.843137  0.156863"
      ]
     },
     "execution_count": 18,
     "metadata": {},
     "output_type": "execute_result"
    }
   ],
   "source": [
    "df.groupby('EDUCATION').DEFAULT.value_counts(normalize=True).unstack(fill_value=0)"
   ]
  },
  {
   "cell_type": "code",
   "execution_count": 19,
   "id": "ba410adc-3c8c-41fa-8c9a-803108eeb7a0",
   "metadata": {
    "id": "IeKasgRPQMSR"
   },
   "outputs": [
    {
     "data": {
      "image/png": "[encoded data removed]",
      "text/plain": [
       "<Figure size 432x288 with 1 Axes>"
      ]
     },
     "metadata": {
      "needs_background": "light"
     },
     "output_type": "display_data"
    }
   ],
   "source": [
    "sns.countplot(data=df,x='MARRIAGE')\n",
    "ax=sns.countplot(data=df,x='MARRIAGE')"
   ]
  },
  {
   "cell_type": "code",
   "execution_count": 20,
   "id": "84083880-a955-4fff-bb97-9996bb228ff8",
   "metadata": {},
   "outputs": [
    {
     "data": {
      "text/plain": [
       "<AxesSubplot:xlabel='DEFAULT', ylabel='MARRIAGE'>"
      ]
     },
     "execution_count": 20,
     "metadata": {},
     "output_type": "execute_result"
    },
    {
     "data": {
      "image/png": "[encoded data removed]",
      "text/plain": [
       "<Figure size 432x288 with 1 Axes>"
      ]
     },
     "metadata": {
      "needs_background": "light"
     },
     "output_type": "display_data"
    }
   ],
   "source": [
    "tabla_marriage = pd.crosstab(index=df[\"MARRIAGE\"], columns=df[\"DEFAULT\"])\n",
    "tabla_porcent2 = tabla_marriage.apply(lambda r: r/r.sum()*100, axis=1)\n",
    "sns.heatmap(tabla_porcent2, annot=True, cmap=\"YlGnBu\", fmt=\".1f\", cbar=False)"
   ]
  },
  {
   "cell_type": "code",
   "execution_count": 21,
   "id": "5f75ebe3-4387-4229-86eb-0571075444c0",
   "metadata": {
    "id": "btQaSgCwQMSR"
   },
   "outputs": [
    {
     "data": {
      "text/html": [
       "<div>\n",
       "<style scoped>\n",
       "    .dataframe tbody tr th:only-of-type {\n",
       "        vertical-align: middle;\n",
       "    }\n",
       "\n",
       "    .dataframe tbody tr th {\n",
       "        vertical-align: top;\n",
       "    }\n",
       "\n",
       "    .dataframe thead th {\n",
       "        text-align: right;\n",
       "    }\n",
       "</style>\n",
       "<table border=\"1\" class=\"dataframe\">\n",
       "  <thead>\n",
       "    <tr style=\"text-align: right;\">\n",
       "      <th>DEFAULT</th>\n",
       "      <th>0</th>\n",
       "      <th>1</th>\n",
       "    </tr>\n",
       "    <tr>\n",
       "      <th>MARRIAGE</th>\n",
       "      <th></th>\n",
       "      <th></th>\n",
       "    </tr>\n",
       "  </thead>\n",
       "  <tbody>\n",
       "    <tr>\n",
       "      <th>0</th>\n",
       "      <td>0.907407</td>\n",
       "      <td>0.092593</td>\n",
       "    </tr>\n",
       "    <tr>\n",
       "      <th>1</th>\n",
       "      <td>0.765283</td>\n",
       "      <td>0.234717</td>\n",
       "    </tr>\n",
       "    <tr>\n",
       "      <th>2</th>\n",
       "      <td>0.790717</td>\n",
       "      <td>0.209283</td>\n",
       "    </tr>\n",
       "    <tr>\n",
       "      <th>3</th>\n",
       "      <td>0.739938</td>\n",
       "      <td>0.260062</td>\n",
       "    </tr>\n",
       "  </tbody>\n",
       "</table>\n",
       "</div>"
      ],
      "text/plain": [
       "DEFAULT          0         1\n",
       "MARRIAGE                    \n",
       "0         0.907407  0.092593\n",
       "1         0.765283  0.234717\n",
       "2         0.790717  0.209283\n",
       "3         0.739938  0.260062"
      ]
     },
     "execution_count": 21,
     "metadata": {},
     "output_type": "execute_result"
    }
   ],
   "source": [
    "df.groupby('MARRIAGE').DEFAULT.value_counts(normalize=True).unstack(fill_value=0)"
   ]
  },
  {
   "cell_type": "markdown",
   "id": "7a412749-2bda-4e1e-be06-48b545605ea5",
   "metadata": {},
   "source": [
    "##### Contar Valores Nulos"
   ]
  },
  {
   "cell_type": "code",
   "execution_count": 22,
   "id": "4786ece6-f0b4-45bb-a36d-f790da2f1e34",
   "metadata": {},
   "outputs": [],
   "source": [
    "# Función para calcular valores perdidos por columna\n",
    "def missing_values_table(df):\n",
    "        # Valores perdidos totales\n",
    "        mis_val = df.isnull().sum()\n",
    "        \n",
    "        # Porcentaje de valores faltantes\n",
    "        mis_val_percent = 100 * df.isnull().sum() / len(df)\n",
    "        \n",
    "        #Nombres de columna\n",
    "        #Columns = pd.Series(df_train.columns)\n",
    "        # Haz una tabla con los resultados.\n",
    "        mis_val_table = pd.concat([mis_val, mis_val_percent], axis=1,ignore_index= True)\n",
    "        \n",
    "        # Cambiar el nombre de las columnas\n",
    "        mis_val_table = mis_val_table.rename(\n",
    "        columns = {0 : 'Missing Values', 1 : '% of Total Values'})\n",
    "        \n",
    "        # Ordenar la tabla por porcentaje de faltante descendente\n",
    "        mis_val_table = mis_val_table[\n",
    "            mis_val_table.iloc[:,1] != 0].sort_values(\n",
    "        '% of Total Values', ascending=False).round(1)\n",
    "        \n",
    "        # Imprimir alguna información resumida\n",
    "        print (\"El conjunto de datos tiene \" + str(df.shape[1]) + \" columnas.\\n\"      \n",
    "            \"Hay \" + str(mis_val_table.shape[0]) +\n",
    "              \" columnas que contienen valores perdidos.\")\n",
    "        \n",
    "        # Devolver el marco de datos con información faltante\n",
    "        return mis_val_table"
   ]
  },
  {
   "cell_type": "code",
   "execution_count": 23,
   "id": "29b13013-cd80-4692-b293-bd1a98037536",
   "metadata": {},
   "outputs": [
    {
     "name": "stdout",
     "output_type": "stream",
     "text": [
      "El conjunto de datos tiene 24 columnas.\n",
      "Hay 0 columnas que contienen valores perdidos.\n"
     ]
    },
    {
     "data": {
      "text/html": [
       "<div>\n",
       "<style scoped>\n",
       "    .dataframe tbody tr th:only-of-type {\n",
       "        vertical-align: middle;\n",
       "    }\n",
       "\n",
       "    .dataframe tbody tr th {\n",
       "        vertical-align: top;\n",
       "    }\n",
       "\n",
       "    .dataframe thead th {\n",
       "        text-align: right;\n",
       "    }\n",
       "</style>\n",
       "<table border=\"1\" class=\"dataframe\">\n",
       "  <thead>\n",
       "    <tr style=\"text-align: right;\">\n",
       "      <th></th>\n",
       "      <th>Missing Values</th>\n",
       "      <th>% of Total Values</th>\n",
       "    </tr>\n",
       "  </thead>\n",
       "  <tbody>\n",
       "  </tbody>\n",
       "</table>\n",
       "</div>"
      ],
      "text/plain": [
       "Empty DataFrame\n",
       "Columns: [Missing Values, % of Total Values]\n",
       "Index: []"
      ]
     },
     "execution_count": 23,
     "metadata": {},
     "output_type": "execute_result"
    }
   ],
   "source": [
    "mis_val_table = missing_values_table(df)\n",
    "mis_val_table.tail(20)"
   ]
  },
  {
   "cell_type": "code",
   "execution_count": 24,
   "id": "92e07471-824c-4ec8-bd25-d15593437dd6",
   "metadata": {},
   "outputs": [],
   "source": [
    "def feature_type_split(data):\n",
    "    cat_list = []\n",
    "    dis_num_list = []\n",
    "    num_list = []\n",
    "    for i in data.columns.tolist():\n",
    "        if data[i].dtype == 'object':\n",
    "            cat_list.append(i)\n",
    "        elif data[i].nunique() < 25:\n",
    "            dis_num_list.append(i)\n",
    "        \n",
    "        else:\n",
    "            num_list.append(i)\n",
    "    return cat_list, dis_num_list, num_list\n",
    "\n",
    "cat_list, dis_num_list, num_list = feature_type_split(df) "
   ]
  },
  {
   "cell_type": "code",
   "execution_count": 25,
   "id": "4395c590-f645-4d36-99df-dae1eaa6744a",
   "metadata": {},
   "outputs": [
    {
     "name": "stdout",
     "output_type": "stream",
     "text": [
      "num_list 14\n",
      "cat_list 0\n",
      "dis_num_list 10\n"
     ]
    }
   ],
   "source": [
    "f_c_numeric = df[num_list]\n",
    "df_categorical = df[cat_list]\n",
    "df_d_numeric = df[dis_num_list]\n",
    "\n",
    "print(\"num_list\",len(num_list))\n",
    "print(\"cat_list\",len(cat_list))\n",
    "print(\"dis_num_list\",len(dis_num_list))"
   ]
  },
  {
   "cell_type": "code",
   "execution_count": 26,
   "id": "f664d79a-ba36-472d-9eb2-8916a5a94aef",
   "metadata": {},
   "outputs": [
    {
     "name": "stdout",
     "output_type": "stream",
     "text": [
      "                   Media   Mediana   Moda\n",
      "LIMIT_BAL  167484.322667  140000.0  50000\n",
      "SEX             1.603733       2.0      2\n",
      "EDUCATION       1.853133       2.0      2\n",
      "MARRIAGE        1.551867       2.0      2\n",
      "AGE            35.485500      34.0     29\n",
      "PAY_1          -0.016700       0.0      0\n",
      "PAY_2          -0.133767       0.0      0\n",
      "PAY_3          -0.166200       0.0      0\n",
      "PAY_4          -0.220667       0.0      0\n",
      "PAY_5          -0.266200       0.0      0\n",
      "PAY_6          -0.291100       0.0      0\n",
      "BILL_AMT1   51223.330900   22381.5      0\n",
      "BILL_AMT2   49179.075167   21200.0      0\n",
      "BILL_AMT3   47013.154800   20088.5      0\n",
      "BILL_AMT4   43262.948967   19052.0      0\n",
      "BILL_AMT5   40311.400967   18104.5      0\n",
      "BILL_AMT6   38871.760400   17071.0      0\n",
      "PAY_AMT1     5663.580500    2100.0      0\n",
      "PAY_AMT2     5921.163500    2009.0      0\n",
      "PAY_AMT3     5225.681500    1800.0      0\n",
      "PAY_AMT4     4826.076867    1500.0      0\n",
      "PAY_AMT5     4799.387633    1500.0      0\n",
      "PAY_AMT6     5215.502567    1500.0      0\n",
      "DEFAULT         0.221200       0.0      0\n"
     ]
    }
   ],
   "source": [
    "import statistics\n",
    "med_dispersion = pd.DataFrame()\n",
    "med_dispersion['Media'] = df.mean()\n",
    "med_dispersion['Mediana'] = df.median()\n",
    "med_dispersion['Moda'] = df.mode().iloc[0]\n",
    "print(med_dispersion)"
   ]
  },
  {
   "cell_type": "markdown",
   "id": "66eb9632-9ce9-46ed-b3d4-59540ab29feb",
   "metadata": {},
   "source": [
    "### Asimetría y Curtosis de las Variables"
   ]
  },
  {
   "cell_type": "code",
   "execution_count": 27,
   "id": "c151bee8-90fe-4bdd-918f-0b3863202f5d",
   "metadata": {},
   "outputs": [
    {
     "name": "stdout",
     "output_type": "stream",
     "text": [
      "Asimetría de cada variable numérica:\n",
      " LIMIT_BAL     0.992817\n",
      "SEX          -0.424162\n",
      "EDUCATION     0.970923\n",
      "MARRIAGE     -0.018741\n",
      "AGE           0.732209\n",
      "PAY_1         0.731938\n",
      "PAY_2         0.790525\n",
      "PAY_3         0.840640\n",
      "PAY_4         0.999579\n",
      "PAY_5         1.008147\n",
      "PAY_6         0.947982\n",
      "BILL_AMT1     2.663728\n",
      "BILL_AMT2     2.705086\n",
      "BILL_AMT3     3.087676\n",
      "BILL_AMT4     2.821824\n",
      "BILL_AMT5     2.876236\n",
      "BILL_AMT6     2.846502\n",
      "PAY_AMT1     14.667631\n",
      "PAY_AMT2     30.452295\n",
      "PAY_AMT3     17.215775\n",
      "PAY_AMT4     12.904340\n",
      "PAY_AMT5     11.126861\n",
      "PAY_AMT6     10.640195\n",
      "DEFAULT       1.343437\n",
      "dtype: float64\n"
     ]
    }
   ],
   "source": [
    "from scipy.stats import skew, kurtosis\n",
    "asimetria = df.apply(lambda x: skew(x))\n",
    "print('Asimetría de cada variable numérica:\\n', asimetria)"
   ]
  },
  {
   "cell_type": "code",
   "execution_count": 28,
   "id": "02a30e81-4c10-49aa-86fa-1b3bb6bd9412",
   "metadata": {},
   "outputs": [
    {
     "name": "stdout",
     "output_type": "stream",
     "text": [
      "\n",
      "Curtosis de cada variable numérica:\n",
      " LIMIT_BAL       0.535974\n",
      "SEX            -1.820086\n",
      "EDUCATION       2.078075\n",
      "MARRIAGE       -1.363341\n",
      "AGE             0.044096\n",
      "PAY_1           2.720062\n",
      "PAY_2           1.569956\n",
      "PAY_3           2.083888\n",
      "PAY_4           3.496201\n",
      "PAY_5           3.988883\n",
      "PAY_6           3.425763\n",
      "BILL_AMT1       9.804455\n",
      "BILL_AMT2      10.301029\n",
      "BILL_AMT3      19.779758\n",
      "BILL_AMT4      11.307240\n",
      "BILL_AMT5      12.303630\n",
      "BILL_AMT6      12.268460\n",
      "PAY_AMT1      415.185337\n",
      "PAY_AMT2     1641.358118\n",
      "PAY_AMT3      564.216982\n",
      "PAY_AMT4      277.287348\n",
      "PAY_AMT5      180.033731\n",
      "PAY_AMT6      167.133371\n",
      "DEFAULT        -0.195178\n",
      "dtype: float64\n"
     ]
    }
   ],
   "source": [
    "curtosis = df.apply(lambda x: kurtosis(x))\n",
    "print('\\nCurtosis de cada variable numérica:\\n', curtosis)"
   ]
  },
  {
   "cell_type": "markdown",
   "id": "df4dc1fe-0837-449a-8954-b646eec2c575",
   "metadata": {},
   "source": [
    "### Detección de Outliers con Boxplot"
   ]
  },
  {
   "cell_type": "code",
   "execution_count": 50,
   "id": "21e14997-91b0-4567-99a9-2e2aa478b064",
   "metadata": {},
   "outputs": [
    {
     "data": {
      "image/png": "[encoded data removed]",
      "text/plain": [
       "<Figure size 1080x576 with 1 Axes>"
      ]
     },
     "metadata": {
      "needs_background": "light"
     },
     "output_type": "display_data"
    }
   ],
   "source": [
    "fig, ax = plt.subplots(figsize=(15, 8))\n",
    "sns.boxplot(data=f_c_numeric, ax=ax)\n",
    "plt.show()"
   ]
  },
  {
   "cell_type": "markdown",
   "id": "0e0cc237-6b5f-48ba-b0ca-1088473647b5",
   "metadata": {},
   "source": [
    "### Modelamiento"
   ]
  },
  {
   "cell_type": "code",
   "execution_count": 51,
   "id": "fe7b458e-4bbd-42d1-b456-a4525e52b3c9",
   "metadata": {
    "tags": []
   },
   "outputs": [],
   "source": [
    "X = df.drop('DEFAULT', axis=1)\n",
    "y = df['DEFAULT']"
   ]
  },
  {
   "cell_type": "code",
   "execution_count": 52,
   "id": "2bcc2ac7-ee15-4106-b4f8-4cb0215b661d",
   "metadata": {},
   "outputs": [],
   "source": [
    "from sklearn.model_selection import train_test_split\n",
    "from sklearn.metrics import mean_squared_error\n",
    "\n",
    "X_train, X_test, y_train, y_test = train_test_split(X, y, test_size=0.3, stratify=y, random_state=42)"
   ]
  },
  {
   "cell_type": "code",
   "execution_count": 53,
   "id": "019f8595-24ac-4f92-bedf-0c68d7a83fdf",
   "metadata": {},
   "outputs": [
    {
     "data": {
      "text/plain": [
       "((21000, 23), (21000,))"
      ]
     },
     "execution_count": 53,
     "metadata": {},
     "output_type": "execute_result"
    }
   ],
   "source": [
    "X_train.shape, y_train.shape"
   ]
  },
  {
   "cell_type": "code",
   "execution_count": 54,
   "id": "4a102e7b-f48b-4edb-9b9f-dba74973cdfb",
   "metadata": {},
   "outputs": [
    {
     "data": {
      "text/plain": [
       "((9000, 23), (9000,))"
      ]
     },
     "execution_count": 54,
     "metadata": {},
     "output_type": "execute_result"
    }
   ],
   "source": [
    "X_test.shape, y_test.shape"
   ]
  },
  {
   "cell_type": "code",
   "execution_count": 55,
   "id": "f468d5f1-b57c-4a90-947a-91f860a11a77",
   "metadata": {},
   "outputs": [],
   "source": [
    "from sklearn.preprocessing import StandardScaler\n",
    "scaler = StandardScaler()\n",
    "X_train_scaled = scaler.fit_transform(X_train)\n",
    "X_test_scaled = scaler.transform(X_test)"
   ]
  },
  {
   "cell_type": "code",
   "execution_count": 56,
   "id": "db00f509-fc48-43c2-b888-2533b63c02fd",
   "metadata": {},
   "outputs": [
    {
     "data": {
      "text/plain": [
       "((21000, 23), (21000,))"
      ]
     },
     "execution_count": 56,
     "metadata": {},
     "output_type": "execute_result"
    }
   ],
   "source": [
    "X_train_scaled.shape, y_train.shape"
   ]
  },
  {
   "cell_type": "code",
   "execution_count": 57,
   "id": "b1b868b3-04e8-47a7-bc81-49f2b70acac5",
   "metadata": {},
   "outputs": [
    {
     "data": {
      "text/plain": [
       "(array([ 1.67499143e+05,  1.60357143e+00,  1.85685714e+00,  1.55333333e+00,\n",
       "         3.54280476e+01, -1.51904762e-02, -1.33857143e-01, -1.65809524e-01,\n",
       "        -2.20142857e-01, -2.70714286e-01, -2.90666667e-01,  5.11942188e+04,\n",
       "         4.91408039e+04,  4.69834147e+04,  4.33144442e+04,  4.03257645e+04,\n",
       "         3.88376780e+04,  5.65430671e+03,  5.91290243e+03,  5.25224452e+03,\n",
       "         4.87620138e+03,  4.81956000e+03,  5.23414143e+03]),\n",
       " array([1.68386853e+10, 2.39272959e-01, 6.32367265e-01, 2.72488889e-01,\n",
       "        8.43562514e+01, 1.26210258e+00, 1.43955846e+00, 1.42650720e+00,\n",
       "        1.34987046e+00, 1.26323759e+00, 1.31237003e+00, 5.42170516e+09,\n",
       "        5.06388854e+09, 4.72313953e+09, 4.15090845e+09, 3.72190542e+09,\n",
       "        3.54641996e+09, 2.69766736e+08, 4.28564326e+08, 3.24579332e+08,\n",
       "        2.38971268e+08, 2.29694068e+08, 3.11517137e+08]))"
      ]
     },
     "execution_count": 57,
     "metadata": {},
     "output_type": "execute_result"
    }
   ],
   "source": [
    "scaler.mean_, scaler.var_"
   ]
  },
  {
   "cell_type": "code",
   "execution_count": 59,
   "id": "c2dfb2a8-3217-421f-b7a6-4625e15aec35",
   "metadata": {},
   "outputs": [
    {
     "name": "stdout",
     "output_type": "stream",
     "text": [
      "Classification Report for Support Vector Machine:\n",
      "               precision    recall  f1-score   support\n",
      "\n",
      "           0       0.83      0.95      0.89      7009\n",
      "           1       0.66      0.33      0.44      1991\n",
      "\n",
      "    accuracy                           0.81      9000\n",
      "   macro avg       0.75      0.64      0.66      9000\n",
      "weighted avg       0.79      0.81      0.79      9000\n",
      "\n"
     ]
    },
    {
     "data": {
      "image/png": "[encoded data removed]",
      "text/plain": [
       "<Figure size 504x288 with 2 Axes>"
      ]
     },
     "metadata": {
      "needs_background": "light"
     },
     "output_type": "display_data"
    },
    {
     "name": "stdout",
     "output_type": "stream",
     "text": [
      "Precisión en el conjunto de entrenamiento: 0.8268095238095238\n",
      "Precisión en el conjunto de prueba: 0.814\n"
     ]
    }
   ],
   "source": [
    "from sklearn.metrics import classification_report, accuracy_score, recall_score, precision_score, f1_score\n",
    "from sklearn.metrics import confusion_matrix\n",
    "from sklearn.svm import SVC\n",
    "import matplotlib.pyplot as plt\n",
    "import seaborn as sns\n",
    "\n",
    "# Crear el modelo SVC con los valores finales del Grid Search\n",
    "best_svm_model = SVC(C=1, kernel='rbf', gamma='scale')\n",
    "best_svm_model.fit(X_train_scaled, y_train)  # Usar las variables originales\n",
    "\n",
    "# Predecir en el conjunto de prueba\n",
    "y_pred_svc = best_svm_model.predict(X_test_scaled)\n",
    "\n",
    "# Mostrar el informe de clasificación\n",
    "print(\"Classification Report for Support Vector Machine:\\n\", classification_report(y_test, y_pred_svc))\n",
    "\n",
    "# Crear la matriz de confusión\n",
    "cf_matrix = confusion_matrix(y_test, y_pred_svc)\n",
    "\n",
    "# Visualizar la matriz de confusión\n",
    "plt.figure(figsize=(7, 4))\n",
    "sns.heatmap(cf_matrix, annot=True, cmap='Blues', fmt='g', annot_kws={\"fontsize\": 15})\n",
    "plt.title('Confusion Matrix for Support Vector Machine', fontsize=17)\n",
    "plt.tight_layout()\n",
    "plt.show()\n",
    "\n",
    "# Evaluar y mostrar la precisión en el conjunto de entrenamiento\n",
    "y_train_pred = best_svm_model.predict(X_train_scaled)  # Usar las variables originales\n",
    "train_accuracy = accuracy_score(y_train, y_train_pred)  # Usar las variables originales\n",
    "print(\"Precisión en el conjunto de entrenamiento:\", train_accuracy)\n",
    "\n",
    "# Evaluar y mostrar la precisión en el conjunto de prueba\n",
    "test_accuracy = accuracy_score(y_test, y_pred_svc)\n",
    "print(\"Precisión en el conjunto de prueba:\", test_accuracy)"
   ]
  },
  {
   "cell_type": "markdown",
   "id": "be65281d-3ce4-460b-9305-b6c09cffed70",
   "metadata": {},
   "source": [
    "### Interpretación"
   ]
  },
  {
   "cell_type": "markdown",
   "id": "83c84803-6bf2-48fc-b1ba-365e5b4783f4",
   "metadata": {},
   "source": [
    "Resumen de métricas:\n",
    "- En cuanto al Accuracy, se puede decir que el SVM tiene un valor alto (0.81)\n",
    "- En cuanto a la Precisión se observa que el SVM tiene 0.66\n",
    "- En Recall es bajo (0.33)\n",
    "- El F1-Score nos señala que el valor del SVM es 0.44 (medio)"
   ]
  },
  {
   "cell_type": "markdown",
   "id": "323060a4-fe69-449d-9def-67f372ac3384",
   "metadata": {},
   "source": [
    "Ahora, al interpretar las métricas para nuestro caso de aplicación, nosotros estamos haciendo un análisis para credit scoring, en el cual, el objetivo más importante es poder identificar a los clientes con mayor riesgo de impago y así el banco pueda evitar tener pérdidas. Por lo tanto la variable más importante para nosotros es la precisión ya que si esta es alta, nos va a garantizar que las personas calificadas como no pagadoras tengan una alta probabilidad de ser realmente no pagadoras."
   ]
  },
  {
   "cell_type": "markdown",
   "id": "1704b786-42ee-446e-af1d-d3cf9248b644",
   "metadata": {},
   "source": [
    "Dada esta consideración, el modelo de SVM tiene 0.66 de precision, lo cual es medianamente alto."
   ]
  },
  {
   "cell_type": "markdown",
   "id": "f30d05ce-0558-4c37-9fea-7eba12ddf734",
   "metadata": {},
   "source": [
    "El recall es bajo, lo cual es preocupante porque se podría aprobar créditos a personas que no son cumplidoras, lo que resultará en pérdidas para el banco."
   ]
  },
  {
   "cell_type": "markdown",
   "id": "8833cddf-739e-42f6-8b10-9b20f29bdbac",
   "metadata": {},
   "source": [
    "El F1-Score es importante también porque califica el rendimiento del modelo combinando la precisión y el recall"
   ]
  },
  {
   "cell_type": "markdown",
   "id": "adcaaf84-adc9-4c8b-abdf-60e57e568c52",
   "metadata": {},
   "source": [
    "Se puede concluir que el modelo del SVM sería equilibrado, ya que tiene un Accuracy alto (0.81), una precisión media-alta (0.66) que es la métrica más importante, y el F1-Score más alto de los tres modelos comparados (0.44)."
   ]
  },
  {
   "cell_type": "code",
   "execution_count": null,
   "id": "8d9a3d09-e495-435a-9750-15dc6592e24e",
   "metadata": {},
   "outputs": [],
   "source": []
  }
 ],
 "metadata": {
  "kernelspec": {
   "display_name": "Python 3 (ipykernel)",
   "language": "python",
   "name": "python3"
  },
  "language_info": {
   "codemirror_mode": {
    "name": "ipython",
    "version": 3
   },
   "file_extension": ".py",
   "mimetype": "text/x-python",
   "name": "python",
   "nbconvert_exporter": "python",
   "pygments_lexer": "ipython3",
   "version": "3.9.12"
  }
 },
 "nbformat": 4,
 "nbformat_minor": 5
}
